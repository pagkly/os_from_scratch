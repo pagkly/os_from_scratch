{
 "metadata": {
  "language_info": {
   "codemirror_mode": {
    "name": "ipython",
    "version": 3
   },
   "file_extension": ".py",
   "mimetype": "text/x-python",
   "name": "python",
   "nbconvert_exporter": "python",
   "pygments_lexer": "ipython3",
   "version": 3
  },
  "orig_nbformat": 2
 },
 "nbformat": 4,
 "nbformat_minor": 2,
 "cells": [
  {
   "cell_type": "code",
   "execution_count": null,
   "metadata": {},
   "outputs": [],
   "source": [
    "#ChromeOS\n",
    "sudo apt install -y autoconf libaio-dev libbluetooth-dev libbrlapi-dev libbz2-dev libcap-dev libcap-ng-dev libcurl4-gnutls-dev libepoxy-dev libfdt-dev libgbm-dev libgles2-mesa-dev libglib2.0-dev libgtk-3-dev libibverbs-dev libjpeg8-dev liblzo2-dev libncurses5-dev libnuma-dev librbd-dev librdmacm-dev libsasl2-dev libsdl1.2-dev libsdl2-dev libseccomp-dev libsnappy-dev libssh2-1-dev libspice-server-dev libspice-server1 libtool libusb-1.0-0 libusb-1.0-0-dev libvde-dev libvdeplug-dev libvte-dev libxen-dev valgrind xfslibs-dev xutils-dev zlib1g-dev libusbredirhost-dev usbredirserver\n",
    "\n",
    "#virglrenderer\n",
    "git clone git://git.freedesktop.org/git/virglrenderer\n",
    "cd virglrenderer\n",
    "./autogen.sh\n",
    "make -j7\n",
    "sudo make install\n",
    "\n",
    "#https://unix.stackexchange.com/questions/268460/how-to-mount-qcow2-image\n",
    "#Step 1 - Enable NBD on the host\n",
    "sudo modprobe nbd max_part=8\n",
    "#Step 2 - Connect the QCOW2 as a network block device\n",
    "sudo qemu-nbd --connect=/dev/nbd0 /var/lib/libvirt/images/ChromeOS.qcow2\n",
    "#Step 3 - List partitions inside the QCOW2\n",
    "sudo fdisk /dev/nbd0 -l\n",
    "#Step 4 - Mount the partition from the VM\n",
    "#sudo mount /dev/nbd0p1 /mnt/somepoint/\n",
    "\n",
    "\n",
    "#COS\n",
    "sudo apt-get update\n",
    "sudo apt-get install -y figlet \n",
    "sudo apt-get install -y pv\n",
    "sudo apt-get install -y cgpt\n",
    "cd /media/user/Ventoy/ChromeOS\n",
    "sudo bash chromeos-install.sh -src rammus_recovery.bin -dst /dev/nbd0\n",
    "\n",
    "#Step 5 - After you're done, unmount and disconnect\n",
    "#sudo umount /mnt/somepoint/\n",
    "sudo qemu-nbd --disconnect /dev/nbd0\n",
    "sudo rmmod nbd\n",
    "\n",
    "\n",
    "cd /media/user/Ventoy/ChromeOS\n",
    "/usr/bin/qemu-system-x86_64 \\\n",
    "    -enable-kvm \\\n",
    "    -m 2G \\\n",
    "    -smp 4 \\\n",
    "    -hda /media/user/Ventoy/ChromeOS/rammus_recovery.bin \\\n",
    "    -vga virtio \\\n",
    "    -net nic,model=virtio \\\n",
    "    -net user,hostfwd=tcp:127.0.0.1:9222-:22 \\\n",
    "    -usb -usbdevice keyboard \\\n",
    "    -usbdevice mouse \\\n",
    "    -device virtio-gpu-pci,virgl \\\n",
    "    -display gtk,gl=on"
   ]
  }
 ]
}