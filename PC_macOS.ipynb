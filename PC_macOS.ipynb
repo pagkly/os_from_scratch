{
 "cells": [
  {
   "cell_type": "code",
   "execution_count": null,
   "metadata": {},
   "outputs": [],
   "source": [
    "#CLOVER INSTALL\n",
    "git clone https://github.com/m13253/clover-linux-installer.git\n",
    "cd clover*\n",
    "./install.sh\n",
    "#/dev/nvme1n1\n",
    "#/dev/nvme1n1p1\n",
    "#/dev/sdc\n",
    "#/dev/sdc1\n",
    "\n",
    "#mountESP\n",
    "sudo mkdir /mnt/MOEFI\n",
    "sudo mount /dev/sdc1 /mnt/MOEFI\n",
    "\n",
    "#qcow22mount\n",
    "sudo modprobe nbd\n",
    "sudo qemu-nbd -c /dev/nbd0 ~/Documents/ESP.qcow2\n",
    "sudo partx -l /dev/nbd0\n",
    "sudo mkdir /mnt/ESP\n",
    "sudo mount /dev/nbd0p1 /mnt/ESP\n",
    "\n",
    "#copy apfs.efi to ESP\n",
    "cd /media/user/SED/VBOX/ESP/EFI/CLOVER\n",
    "sudo cp -r ./drivers64UEFI /mnt/MOEFI/EFI/CLOVER/drivers64UEFI"
   ]
  },
  {
   "cell_type": "code",
   "execution_count": null,
   "metadata": {},
   "outputs": [],
   "source": [
    "#MacOSInstall\n",
    "#csrutil disable\n",
    "#download :\n",
    "#https://reddit.com/sjainguides\n",
    "https://nmac.to\n",
    "http://stevenygard.com/projects/class-dump/\n",
    "https://uploaded.net/file/vfe8zv97/nmac.to_tsin201.zip\n",
    "http://uploaded.net/file/vrhdj06h/nmac.to_flext14.zip\n",
    "activity timer\n",
    "\n",
    "http://ezine.echo.or.id/ezine22/e22-005.txt\n",
    "https://lifehacker.com/how-to-crack-just-about-any-mac-app-and-how-to-prevent-5736101\n",
    "http://loadcode.blogspot.com/2006/02/cracking-software-on-os-x.html\n",
    "https://iichamp.wordpress.com/2014/03/05/how-to-reset-trail-programs-on-mac/\n",
    "https://news.ycombinator.com/item?id=2113236\n",
    "install office\n",
    "install acrobat pro dc\n",
    "\n",
    "Settings :\n",
    "show path bar\n",
    "show drive\n",
    "sudo spctl --master-disable\n",
    "xcode-select --install\n",
    "/usr/bin/ruby -e \"$(curl -fsSL https://raw.githubusercontent.com/Homebrew/install/master/install)\"\n",
    "\n",
    "brew cask install google-chrome\n",
    "brew cask install atom\n",
    "brew cask install caffeine\n",
    "brew cask install otx\n",
    "brew cask install class-dump\n",
    "cp /usr/local/bin/class-dump\n",
    "\n",
    "Non:\n",
    "mkdir homebrew && curl -L https://github.com/Homebrew/brew/tarball/master | tar xz --strip 1 -C homebrew\n",
    "brew cask install michaelvillar-timer\n"
   ]
  },
  {
   "cell_type": "code",
   "execution_count": null,
   "metadata": {},
   "outputs": [],
   "source": [
    "#Hackintosh"
   ]
  }
 ],
 "metadata": {
  "kernelspec": {
   "display_name": "Python 3",
   "language": "python",
   "name": "python3"
  },
  "language_info": {
   "codemirror_mode": {
    "name": "ipython",
    "version": 3
   },
   "file_extension": ".py",
   "mimetype": "text/x-python",
   "name": "python",
   "nbconvert_exporter": "python",
   "pygments_lexer": "ipython3",
   "version": "3.8.2"
  }
 },
 "nbformat": 4,
 "nbformat_minor": 4
}