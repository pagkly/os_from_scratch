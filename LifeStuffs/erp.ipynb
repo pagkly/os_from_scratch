{
 "metadata": {
  "language_info": {
   "codemirror_mode": {
    "name": "ipython",
    "version": 3
   },
   "file_extension": ".py",
   "mimetype": "text/x-python",
   "name": "python",
   "nbconvert_exporter": "python",
   "pygments_lexer": "ipython3",
   "version": 3
  },
  "orig_nbformat": 2
 },
 "nbformat": 4,
 "nbformat_minor": 2,
 "cells": [
  {
   "cell_type": "code",
   "execution_count": null,
   "metadata": {},
   "outputs": [],
   "source": [
    "###The 12 Steps of AA\n",
    "#AA’s 12-Step approach follows a set of guidelines designed as “steps” toward recovery, and members can revisit these steps at any time. The 12 Steps are:9\n",
    "#We admitted we were powerless over alcohol—that our lives had become unmanageable.\n",
    "#Came to believe that a Power greater than ourselves could restore us to sanity.\n",
    "#Made a decision to turn our will and our lives over to the care of God as we understood Him.\n",
    "#Made a searching and fearless moral inventory of ourselves.\n",
    "#Admitted to God, to ourselves, and to another human being the exact nature of our wrongs.\n",
    "#Were entirely ready to have God remove all these defects of character.\n",
    "#Humbly asked Him to remove our shortcomings.\n",
    "#Made a list of all persons we had harmed, and became willing to make amends to them all.\n",
    "#Made direct amends to such people wherever possible, except when to do so would injure them or others.\n",
    "#Continued to take personal inventory and when we were wrong promptly admitted it.\n",
    "#Sought through prayer and meditation to improve our conscious contact with God, as we understood Him, praying only for knowledge of His will for us and the power to carry that out.\n",
    "#Having had a spiritual awakening as the result of these Steps, we tried to carry this message to alcoholics, and to practice these principles in all our affairs."
   ]
  }
 ]
}