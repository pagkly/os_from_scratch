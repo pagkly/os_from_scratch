{
 "metadata": {
  "language_info": {
   "codemirror_mode": {
    "name": "ipython",
    "version": 3
   },
   "file_extension": ".py",
   "mimetype": "text/x-python",
   "name": "python",
   "nbconvert_exporter": "python",
   "pygments_lexer": "ipython3",
   "version": 3
  },
  "orig_nbformat": 2
 },
 "nbformat": 4,
 "nbformat_minor": 2,
 "cells": [
  {
   "cell_type": "code",
   "execution_count": null,
   "metadata": {},
   "outputs": [],
   "source": [
    "#So, to get started you need to get the base OS installed using the instructions from the official docs .\n",
    "pkg update\n",
    "pkg install bsdtar wget proot tergent tmux openssh\n",
    "\n",
    "#Tmux is a multiplexer that lets you run multiple persistent windows and sessions on a single terminal. I had trouble getting it working in the Arch proot, so a workaround is configuring tmux from your host Termux and then creating a tmux session and starting the chroot from there. For more information on using tmux read this article, and to learn how to customize the appearance and behaviors more try this one as well as looking at the tmux-plugins Github organization for community-built add-ons.\n",
    "\n",
    "termux-setup-storage\n",
    "wget https://raw.githubusercontent.com/SDRausty/termux-arch/master/setupTermuxArch.bash\n",
    "bash setupTermuxArch.bash\n",
    "\n",
    "#This should download and install the Arch system. The install itself will take around 10-30 minutes to extract depending on your device. When the process finishes you'll be in a root shell in your new Arch distro! Of course like any new Linux distro, not everything will work out of the box.\n",
    "#You'll need to install sudo first, and the needed packages for the install:\n",
    "pacman -Syyu sudo wget curl\n",
    "\n",
    "#If you encounter errors resolving hostnames, permissions may need to be reset for the resolv.conf\n",
    "sudo chown root:root /etc/resolv.conf\n",
    "sudo chmod 644 /etc/resolv.conf\n",
    "\n",
    "#Set your root password\n",
    "sudo passwd root\n",
    "#And then you can make your user account\n",
    "addauser user\n",
    "\n",
    "#This will log you in, so we'll exit back to the root shell to finish up\n",
    "exit\n",
    "\n",
    "#Then set your user password\n",
    "sudo passwd user\n",
    "\n",
    "Open the sudoers file for safe editing:\n",
    "\n",
    "visudo\n",
    "And add your user's privileges under root's in the \"User privilege specification\" section (a to begin editing after selection):\n",
    "user ALL=(ALL) ALL\n",
    "\n",
    "#Save and close the file (ESC + :wq + ENTER) If you encounter an error using sudo regarding RLIMIT_CORE then you'll need to\n",
    "nano /etc/sudo.conf\n",
    "#And add this line:\n",
    "Set disable_coredump false\n",
    "\n",
    "#Save and close it (CTRL-x + y + ENTER), and after this you're ready to use your login\n",
    "su - user\n",
    "#Once you're user is set up, you can use a crash-tested script I made that should run through and handle any exceptions. If not, it should at least make it easy enough to figure out what went wrong. Download and run it with sudo to avoid repeating your password:\n",
    "wget --no-check-certificate 'https://docs.google.com/uc?export=download&id=107Fh0l_p0ItVkUufOhP9to-OU_6KYhPW' -O fresharch.sh && chmod +x fresharch.sh && sudo bash fresharch.sh\n",
    "#If all the instructions were followed correctly yay should install and you'll have a functional Arch Linux with AUR support on your Android device."
   ]
  }
 ]
}