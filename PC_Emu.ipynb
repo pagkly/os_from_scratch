{
 "metadata": {
  "language_info": {
   "codemirror_mode": {
    "name": "ipython",
    "version": 3
   },
   "file_extension": ".py",
   "mimetype": "text/x-python",
   "name": "python",
   "nbconvert_exporter": "python",
   "pygments_lexer": "ipython3",
   "version": 3
  },
  "orig_nbformat": 2
 },
 "nbformat": 4,
 "nbformat_minor": 2,
 "cells": [
  {
   "cell_type": "code",
   "execution_count": null,
   "metadata": {},
   "outputs": [],
   "source": [
    "#Ryujinx Ubuntu\n",
    "#https://www.youtube.com/watch?v=_NiAEUZBJOk\n",
    "#Yuzu Ubuntu\n",
    "#https://www.youtube.com/watch?v=6R8eXwaCthM\n",
    "\n",
    "#Dep\n",
    "sudo apt install libsdl2-dev -y\n",
    "sudo apt install build-essential -y\n",
    "sudo apt install cmake git -y\n",
    "sudo apt install libqt5webenginewidgets5 libsndio-dev qtbase5-dev libqt5opengl5-dev -y\n",
    "sudo ln -T /usr/lib/x86_64-linux-gnu/libsndio.so.7.0 /usr/lib/x86_64-linux-gnu/libsndio.so.6.1\n",
    "\n",
    "#Run\n",
    "vblank_mode=0 mesa_glthread=true MESA_GL_VERSION_OVERRIDE=4.5COMPAT  yuzu #AMD & Intel\n",
    "sudo apt-get install libboost-dev libboost-context-dev libzip-dev -y\n",
    "__GL_THREADED_OPTIMIZATIONS=1 ./yuzu #NVIDIA"
   ]
  },
  {
   "cell_type": "code",
   "execution_count": null,
   "metadata": {},
   "outputs": [],
   "source": [
    "ln -s \"/media/user/SED/AY/Games/Need.For.Speed.Heat.Deluxe.Edition.Origin.Rip-InsaneRamZes/Need For Speed Heat\" \"/home/$USER/Games/need-for-speed-heat/drive_c/Program Files (x86)/Origin Games/Need For Speed Heat\""
   ]
  }
 ]
}