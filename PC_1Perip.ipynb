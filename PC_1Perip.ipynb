{
 "metadata": {
  "language_info": {
   "codemirror_mode": {
    "name": "ipython",
    "version": 3
   },
   "file_extension": ".py",
   "mimetype": "text/x-python",
   "name": "python",
   "nbconvert_exporter": "python",
   "pygments_lexer": "ipython3",
   "version": 3
  },
  "orig_nbformat": 2
 },
 "nbformat": 4,
 "nbformat_minor": 2,
 "cells": [
  {
   "cell_type": "code",
   "execution_count": null,
   "metadata": {},
   "outputs": [],
   "source": [
    "#Brother MFC-L2703DW\n",
    "#https://support.brother.com/g/b/downloadhowto.aspx?c=au&lang=en&prod=mfcl2703dw_as&os=128&dlid=dlf006893_000&flang=4&type3=625\n",
    "cd ~\n",
    "wget https://download.brother.com/welcome/dlf006893/linux-brprinter-installer-2.2.2-1.gz\n",
    "sudo apt-get install -y p7zip\n",
    "7z x linux-brprinter-installer-2.2.2-1.gz\n",
    "sudo chmod u+x linux-brprinter-installer-*\n",
    "sudo bash ./linux-brprinter-installer-*"
   ]
  },
  {
   "cell_type": "code",
   "execution_count": null,
   "metadata": {},
   "outputs": [],
   "source": [
    "#Canon MG3660\n",
    "wget https://gdlp01.c-wss.com/gds/5/0100006905/01/scangearmp2-3.20-1-deb.tar.gz\n",
    "wget https://gdlp01.c-wss.com/gds/2/0100006902/01/cnijfilter2-5.20-1-deb.tar.gz\n",
    "sudo apt-get install -y p7zip\n",
    "7z x scangearmp2*.gz cnijfilter2*.gz\n",
    "sudo chmod u+x linux-brprinter-installer-*\n",
    "sudo bash ./linux-brprinter-installer-*\n"
   ]
  }
 ]
}