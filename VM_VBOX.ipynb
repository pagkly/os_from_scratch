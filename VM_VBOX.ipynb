{
 "metadata": {
  "language_info": {
   "codemirror_mode": {
    "name": "ipython",
    "version": 3
   },
   "file_extension": ".py",
   "mimetype": "text/x-python",
   "name": "python",
   "nbconvert_exporter": "python",
   "pygments_lexer": "ipython3",
   "version": 3
  },
  "orig_nbformat": 2
 },
 "nbformat": 4,
 "nbformat_minor": 2,
 "cells": [
  {
   "cell_type": "code",
   "execution_count": null,
   "metadata": {},
   "outputs": [],
   "source": [
    "#:: https://www.andreafortuna.org/2019/10/24/how-to-create-a-virtualbox-vm-from-command-line/\n",
    "set \"vmname=USB_UEFI1\"\n",
    "set \"vmdiskdir=\"\n",
    "set \"vmdir=D:\\VBOX\"\n",
    "vboxmanage createvm --name \"%vmname%\" --ostype \"Other_64\" --register --basefolder \"%vmdir%\"\n",
    "\n",
    "vboxmanage modifyvm \"%vmname%\" --ioapic on                     \n",
    "vboxmanage modifyvm \"%vmname%\" --memory 8192 --vram 128\n",
    "vboxmanage modifyvm \"%vmname%\" --nic1 nat \n",
    "\n",
    "#:: #vboxmanage createhd --filename \"%vmdiskdir%\" --size 80000 --format VDI                     \n",
    "vboxmanage storagectl \"%vmname%\" --name \"SATA Controller\" --add sata --controller IntelAhci       \n",
    "#vboxmanage storageattach \"%vmname%\" --storagectl \"SATA Controller\" --port 0 --device 0 --type hdd --medium \"%vmdiskdir%\"         \n",
    "vboxmanage storagectl \"%vmname%\" --name \"IDE Controller\" --add ide --controller PIIX4       \n",
    "#:: #vboxmanage storageattach \"%vmname%\" --storagectl \"IDE Controller\" --port 1 --device 0 --type dvddrive --medium \"%isodir%\"       \n",
    "vboxmanage modifyvm \"%vmname%\" --boot1 dvd --boot2 disk --boot3 none --boot4 none\n",
    "\n",
    "#:: #HEADLESSRDP\n",
    "vboxmanage modifyvm \"%vmname%\" --vrde on                  \n",
    "vboxmanage modifyvm \"%vmname%\" --vrdemulticon on --vrdeport 10001\n",
    "\n",
    "VBoxHeadless startvm \"%vmname%\" "
   ]
  },
  {
   "cell_type": "code",
   "execution_count": null,
   "metadata": {},
   "outputs": [],
   "source": [
    "#:: https://www.andreafortuna.org/2019/10/24/how-to-create-a-virtualbox-vm-from-command-line/\n",
    "vmname=\"USB_UEFI1\"\n",
    "vmdiskdir=\"\"\n",
    "vmdir=\"/media/$USER/VBOX\"\n",
    "vboxmanage createvm --name \"$vmname\" --ostype \"Other_64\" --register --basefolder \"%vmdir%\"\n",
    "\n",
    "vboxmanage modifyvm \"$vmname\" --ioapic on                     \n",
    "vboxmanage modifyvm \"$vmname\" --memory 8192 --vram 128\n",
    "vboxmanage modifyvm \"$vmname\" --nic1 nat \n",
    "\n",
    "#:: #vboxmanage createhd --filename \"$vmdiskdir\" --size 80000 --format VDI                     \n",
    "vboxmanage storagectl \"$vmname\" --name \"SATA Controller\" --add sata --controller IntelAhci       \n",
    "#vboxmanage storageattach \"$vmname\" --storagectl \"SATA Controller\" --port 0 --device 0 --type hdd --medium \"$vmdiskdir\"         \n",
    "vboxmanage storagectl \"$vmname\" --name \"IDE Controller\" --add ide --controller PIIX4       \n",
    "#:: #vboxmanage storageattach \"$vmname\" --storagectl \"IDE Controller\" --port 1 --device 0 --type dvddrive --medium \"$isodir\"       \n",
    "vboxmanage modifyvm \"$vmname\" --boot1 dvd --boot2 disk --boot3 none --boot4 none\n",
    "\n",
    "#:: #HEADLESSRDP\n",
    "vboxmanage modifyvm \"$vmname\" --vrde on                  \n",
    "vboxmanage modifyvm \"$vmname\" --vrdemulticon on --vrdeport 10001\n",
    "\n",
    "VBoxHeadless startvm \"$vmname\" "
   ]
  }
 ]
}