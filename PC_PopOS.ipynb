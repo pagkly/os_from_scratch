{
 "cells": [
  {
   "cell_type": "code",
   "execution_count": null,
   "metadata": {},
   "outputs": [],
   "source": [
    "#AIRMON\n",
    "wlan=\"wlx1cbfce35c3c1\"\n",
    "wlan=\"wlp3s0\"\n",
    "sudo airmon-ng check-kill\n",
    "sudo ip link set $wlan down\n",
    "sudo iw dev $wlan set type monitor"
   ]
  },
  {
   "cell_type": "code",
   "execution_count": null,
   "metadata": {},
   "outputs": [],
   "source": [
    "#BASH\n",
    "sudo apt autoremove\n",
    "trash-empty\n",
    "sudo rm -rf *.deb\n",
    "\n",
    "grep -E \"snap install|apt-get install|apt install\" .bash_history > output.txt\n",
    "grep -E \"repository\" .bash_history > outputrepo.txt\n",
    "sudo cp template.xml /etc/libvirt/qemu/macOS.xml"
   ]
  },
  {
   "cell_type": "code",
   "execution_count": 3,
   "metadata": {},
   "outputs": [
    {
     "output_type": "error",
     "ename": "SyntaxError",
     "evalue": "invalid syntax (<ipython-input-3-dfca22c9aa77>, line 2)",
     "traceback": [
      "\u001b[0;36m  File \u001b[0;32m\"<ipython-input-3-dfca22c9aa77>\"\u001b[0;36m, line \u001b[0;32m2\u001b[0m\n\u001b[0;31m    wget https://download.teamviewer.com/download/linux/teamviewer_amd64.deb\u001b[0m\n\u001b[0m         ^\u001b[0m\n\u001b[0;31mSyntaxError\u001b[0m\u001b[0;31m:\u001b[0m invalid syntax\n"
     ]
    }
   ],
   "source": [
    "#Teamviewer\n",
    "wget https://download.teamviewer.com/download/linux/teamviewer_amd64.deb\n",
    "sudo apt install -y ./teamviewer_amd64.deb\n",
    "#recovery code P58L 1ZXV TKK0 0KY9"
   ]
  },
  {
   "cell_type": "code",
   "execution_count": 15,
   "metadata": {
    "tags": []
   },
   "outputs": [
    {
     "output_type": "stream",
     "name": "stdout",
     "text": "/usr/bin/sh: 1: Syntax error: end of file unexpected\n"
    }
   ],
   "source": [
    "#Anki\n",
    "cd ~\n",
    "export ver=\"2.1.28\" \n",
    "wget \"https://github.com/ankitects/anki/releases/download/$ver/anki-$ver-linux-amd64.tar.bz2\"\n",
    "#!tar xjf Downloads/anki-$ver-linux-amd64.tar.bz2\n",
    "tar xjf anki-$ver-linux-amd64.tar.bz2\n",
    "cd anki-$ver-linux-amd64\n",
    "sudo make install"
   ]
  },
  {
   "cell_type": "code",
   "execution_count": null,
   "metadata": {},
   "outputs": [],
   "source": [
    "#Pop!_OS by System76\n",
    "#https://www.reddit.com/user/azanone/\n",
    "#Jupyter-notebook\n",
    "sudo apt-get update\n",
    "sudo apt-get install -y jupyter-notebook\n",
    "jupyter-notebook --generate-config\n",
    "sudo touch /etc/rc.local\n",
    "sudo chmod u+x /etc/rc.local\n",
    "echo '\n",
    "# value on error.\n",
    "#\n",
    "# In order to enable or disable this script just change the execution\n",
    "# bits.\n",
    "#\n",
    "# By default this script does nothing.\n",
    "\n",
    "#-u user\n",
    "\n",
    "sudo env \"PATH=\\$PATH\" nohup jupyter-notebook \\\n",
    "--allow-root \\\n",
    "--ip 0.0.0.0 --port 8888 \\\n",
    "--no-browser \\\n",
    "--notebook-dir=\"/home/user/notebooks\" \\\n",
    "--NotebookApp.token=\"\" \\\n",
    "--NotebookApp.password=\"\" \\\n",
    "& \n",
    "exit 0' | sudo tee -a /etc/rc.local\n",
    "\n",
    "# nopasswd sudo\n",
    "echo \"$USER    ALL=(ALL) NOPASSWD:ALL\" | sudo tee -a /etc/sudoers\n",
    "\n"
   ]
  },
  {
   "cell_type": "code",
   "execution_count": null,
   "metadata": {},
   "outputs": [],
   "source": [
    "\n",
    "#GITWATCH\n",
    "!sudo apt install -y inotify-tools git\n",
    "!cd ~\n",
    "!git clone https://github.com/gitwatch/gitwatch.git\n",
    "!cd gitwatch\n",
    "!sudo install -b gitwatch.sh /usr/local/bin/gitwatch\n",
    "!gitwatch -r origin -b master ~/Documents/GitHub/os_from_scratch &\n",
    "#echo \"gitwatch -r origin -b master ~/Documents/GitHub/os_from_scratch &\" | sudo tee -a /etc/rc.local\n",
    "sudo sed -i 's|^exit 0|sudo env \"PATH=$PATH\" nohup gitwatch -r origin -b master ~/Documents/GitHub/os_from_scratch \\&\\nexit 0|g' /etc/rc.local\n",
    "\n",
    "#store password git\n",
    "!git config --global credential.helper store\n",
    "#!echo \"https://<USERNAME>:<PASSWORD>@github.com\" | sudo tee ~/.git-credentials"
   ]
  },
  {
   "cell_type": "code",
   "execution_count": null,
   "metadata": {},
   "outputs": [],
   "source": [
    "# Repository\n",
    "!sudo add-apt-repository -y universe\n",
    "!sudo add-apt-repository -y multiverse\n",
    "#!sudo add-apt-repository -y ppa:blaze/rtbth-dkms\n",
    "#!sudo apt-add-repository -y 'deb http://dl.winehq.org/wine-builds/ubuntu/ focal main'\n",
    "#!sudo add-apt-repository -y \"deb [arch=amd64] https://packages.microsoft.com/repos/vscode stable main\"\n",
    "#!sudo add-apt-repository -y ppa:christian-boxdoerfer/fsearch-daily\n",
    "#!sudo add-apt-repository -y ppa:saiarcot895/flightgear\n",
    "!sudo apt update\n",
    "\n",
    "!sudo apt update\n",
    "!sudo apt autoremove -y"
   ]
  },
  {
   "cell_type": "code",
   "execution_count": 16,
   "metadata": {},
   "outputs": [],
   "source": [
    "# disable animation GNOME3\n",
    "#https://blog.christophersmart.com/2014/03/15/disable-animations-in-gnome-3-for-older-hardware/\n",
    "!gsettings set org.gnome.desktop.interface enable-animations false"
   ]
  },
  {
   "cell_type": "code",
   "execution_count": null,
   "metadata": {},
   "outputs": [],
   "source": [
    "#no hibernate\n",
    "\n",
    "# Browser\n",
    "## Vivaldi\n",
    "!echo \"deb http://repo.vivaldi.com/stable/deb/ stable main\" | sudo tee /etc/apt/sources.list.d/vivaldi.list > /dev/null\n",
    "!wget -O - http://repo.vivaldi.com/stable/linux_signing_key.pub | sudo apt-key add -\n",
    "!sudo apt update && sudo apt install vivaldi-stable -y\n",
    "#move backup\n",
    "#! cp  \n",
    "## Google Chrome\n",
    "!wget -q -O - https://dl.google.com/linux/linux_signing_key.pub | sudo apt-key add -\n",
    "!sudo sh -c 'echo \"deb [arch=amd64] http://dl.google.com/linux/chrome/deb/ stable main\" >> /etc/apt/sources.list.d/google.list'\n",
    "!sudo apt update\n",
    "!sudo apt install google-chrome-stable -y\n",
    "#wget https://dl.google.com/linux/direct/google-chrome-stable_current_amd64.deb\n",
    "#sudo apt install ./google-chrome-stable_current_amd64.deb\n",
    "\n",
    "## Microsoft Edge"
   ]
  },
  {
   "cell_type": "code",
   "execution_count": null,
   "metadata": {},
   "outputs": [],
   "source": [
    "#Chrome RDP\n",
    "wget https://dl.google.com/linux/direct/chrome-remote-desktop_current_amd64.deb /tmp\n",
    "sudo apt install -y /tmp/chrome-remote-desktop_current_amd64.deb"
   ]
  },
  {
   "cell_type": "code",
   "execution_count": null,
   "metadata": {},
   "outputs": [],
   "source": [
    "#selenium webdriver\n",
    "#chromedriver\n",
    "#SELENIUM\n",
    "nm-connection-editor\n",
    "sudo npm install -g --unsafe-perm node-red\n",
    "sudo pip install selenium\n",
    "wget https://chromedriver.storage.googleapis.com/2.41/chromedriver_linux64.zip\n",
    "unzip chromedriver_linux64.zip\n",
    "sudo mv chromedriver /usr/bin/chromedriver\n",
    "sudo chown root:root /usr/bin/chromedriver\n",
    "sudo chmod +x /usr/bin/chromedriver\n",
    "\n",
    "sudo apt-get update\n",
    "sudo apt-get install -y unzip xvfb libxi6 libgconf-2-4\n",
    "sudo apt-get install default-jdk \n",
    "\n",
    "\n",
    "wget https://selenium-release.storage.googleapis.com/3.13/selenium-server-standalone-3.13.0.jar\n",
    "wget http://www.java2s.com/Code/JarDownload/testng/testng-6.8.7.jar.zip\n",
    "unzip testng-6.8.7.jar.zip\n"
   ]
  },
  {
   "cell_type": "code",
   "execution_count": null,
   "metadata": {},
   "outputs": [],
   "source": [
    "# Auto login\n",
    "# https://linuxconfig.org/how-to-enable-automatic-login-on-ubuntu-20-04-focal-fossa\n",
    "# GDM3 (Ubuntu, Pop!OS)\n",
    "#!sudo sed -i 's/#  AutomaticLoginEnable = true/AutomaticLoginEnable = true/g' /etc/gdm3/custom.conf\n",
    "#!sudo sed -i \"s/#  AutomaticLogin = user1/AutomaticLogin = $(echo $USER)/g\" /etc/gdm3/custom.conf\n",
    "\n",
    "!echo \"[daemon]\n",
    "# Uncoment the line below to force the login screen to use Xorg\n",
    "#WaylandEnable=false\n",
    "\n",
    "# Enabling automatic login\n",
    "AutomaticLoginEnable = true\n",
    "AutomaticLogin = $(echo $USER)\" | sudo tee -a /etc/gdm3/custom.conf"
   ]
  },
  {
   "cell_type": "code",
   "execution_count": null,
   "metadata": {},
   "outputs": [],
   "source": [
    "#https://linuxconfig.org/how-to-enable-autologin-on-kali-linux\n",
    "cat /etc/gdm3/daemon.conf\n",
    "sudo sed -i 's|# AutomaticLoginEnable = true|AutomaticLoginEnable = true|g' /etc/gdm3/daemon.conf\n",
    "sudo sed -i 's|# AutomaticLogin = root|AutomaticLogin = root|g' /etc/gdm3/daemon.conf\n",
    "\n",
    "# LightDM (Kali, WSL)\n",
    "sudo apt-get install -y xfce4 xfce4-places-plugin xfce4-goodies\n",
    "update-alternatives --config x-session-manager\n",
    "sudo apt-get install -y kali-undercover\n",
    "#https://linuxconfig.org/how-to-enable-autologin-on-kali-linux\n",
    "cat /etc/lightdm/lightdm.conf\n",
    "\n",
    "sudo sed -i 's|#autologin-guest|autologin-guest|g' /etc/lightdm/lightdm.conf\n",
    "sudo sed -i 's|#autologin-user=|autologin-user=kali|g' /etc/lightdm/lightdm.conf\n",
    "sudo sed -i 's|#autologin-user-timeout|autologin-user-timeout|g' /etc/lightdm/lightdm.conf\n",
    "\n",
    "cat /etc/pam.d/lightdm-autologin\n",
    "sudo sed -i 's|auth required pam_succeed|###auth required pam_succeed|g' /etc/pam.d/lightdm-autologin"
   ]
  },
  {
   "cell_type": "code",
   "execution_count": null,
   "metadata": {},
   "outputs": [],
   "source": [
    "#EXFATSUPPORT\n",
    "!sudo add-apt-repository -y universe\n",
    "!sudo apt update\n",
    "!sudo apt install -y exfat-fuse exfat-utils\n",
    "!sudo apt install -y clonezilla\n",
    "#!sudo apt-get install -y linux-tools-generic linux-cloud-tools-generic\n",
    "\n",
    "#NTFS R/W\n",
    "sudo mkdir /mnt/SED\n",
    "echo \"/dev/sdb1  /mnt/SED  ntfs-3g rw,umask=0000,defaults 0 0\" | sudo tee -a /etc/fstab\n",
    "\n",
    "#SAMBA Windows2Linux\n",
    "sudo apt-get install cifs-utils -y\n",
    "mkdir ~/Desktop/Windows-Share\n",
    "#sudo mount.cifs //DESKTOP-KDJ7PIR/Downloads /home/user/Desktop/Windows-Share -o user=user\n",
    "sudo mount.cifs //192.168.122.115/Downloads /home/user/Desktop/Windows-Share -o user=user\n"
   ]
  },
  {
   "cell_type": "code",
   "execution_count": null,
   "metadata": {
    "scrolled": true
   },
   "outputs": [],
   "source": [
    "# Install\n",
    "## Drivers"
   ]
  },
  {
   "cell_type": "code",
   "execution_count": null,
   "metadata": {},
   "outputs": [],
   "source": [
    "### RTL8812BU\n",
    "# https://github.com/cilynx/rtl88x2bu\n",
    "cd ~\n",
    "git clone https://github.com/cilynx/rtl88x2bu.git\n",
    "cd rtl88x2bu\n",
    "VER=$(sed -n 's/\\PACKAGE_VERSION=\"\\(.*\\)\"/\\1/p' dkms.conf)\n",
    "sudo rsync -rvhP ./ /usr/src/rtl88x2bu-${VER}\n",
    "sudo dkms add -m rtl88x2bu -v ${VER}\n",
    "sudo dkms build -m rtl88x2bu -v ${VER}\n",
    "sudo dkms install -m rtl88x2bu -v ${VER}\n",
    "sudo modprobe 88x2bu"
   ]
  },
  {
   "cell_type": "code",
   "execution_count": null,
   "metadata": {},
   "outputs": [],
   "source": [
    "### RTL8188EUS\n",
    "# AIRCRACK-NG/RTL8188EUS_TLWN722N\n",
    "# https://github.com/aircrack-ng/rtl8188eus\n",
    "sudo apt update\n",
    "sudo apt install bc -y\n",
    "cd ~\n",
    "git clone https://github.com/aircrack-ng/rtl8188eus\n",
    "cd rtl8188eus\n",
    "#cp realtek_blacklist.conf /etc/modprobe.d/\n",
    "#echo \"blacklist r8188eu\" > /etc/modprobe.d/realtek.conf\n",
    "printf \"blacklist r8188eu\" | sudo tee -a /etc/modprobe.d/realtek.conf\n",
    "make && sudo make install\n",
    "\n",
    "#sudo mkdir -p /etc/modprobe.d/\n",
    "#sudo touch /etc/modprobe.d/rtl8188eus.conf\n",
    "#echo \"options rtl8188eus rtw_power_mgnt=0 rtw_enusbss=0\" | sudo tee /etc/modprobe.d/rtl8188eus.conf\n",
    "echo \"\n",
    "\n",
    "\n",
    "[device]\n",
    "wifi.scan-rand-mac-address=no\n",
    "\n",
    "[ifupdown]\n",
    "managed=false\n",
    "\n",
    "[connection]\n",
    "wifi.powersave=0\n",
    "\n",
    "[main]\n",
    "plugins=keyfile\n",
    "\n",
    "[keyfile]\n",
    "unmanaged-devices=mac:A7:A7:A7:A7:A7\" | sudo tee -a /etc/NetworkManager/NetworkManager.conf\n",
    "sudo rmmod 8188eu && sudo insmod 8188eu.ko\n"
   ]
  },
  {
   "cell_type": "code",
   "execution_count": null,
   "metadata": {},
   "outputs": [],
   "source": [
    "### RTL8188FTV\n",
    "#InstallRTL8188FTV\n",
    "#https://askubuntu.com/questions/1062402/cant-find-wifi-drivers-for-0bdaf179-realtek-semiconductor-corp\n",
    "cd ~\n",
    "sudo apt-get install build-essential git dkms linux-headers-$(uname -r) -y\n",
    "git clone https://github.com/kelebek333/rtl8188fu\n",
    "sudo dkms add ./rtl8188fu\n",
    "sudo dkms build rtl8188fu/1.0\n",
    "sudo dkms install rtl8188fu/1.0\n",
    "sudo cp ./rtl8188fu/firmware/rtl8188fufw.bin /lib/firmware/rtlwifi/"
   ]
  },
  {
   "cell_type": "code",
   "execution_count": null,
   "metadata": {},
   "outputs": [],
   "source": [
    "\n",
    "### Intel AC8265NGW\n",
    "### Nvidia\n",
    "#NVIDIA\n",
    "#https://www.maketecheasier.com/install-nvidia-drivers-ubuntu/\n",
    "sudo add-apt-repository ppa:graphics-drivers -y\n",
    "sudo apt-get update\n",
    "sudo apt-get install nvidia-driver-440 -y\n",
    "sudo bash -c \"echo blacklist nouveau > /etc/modprobe.d/blacklist-nvidia-nouveau.conf\"\n",
    "sudo bash -c \"echo options nouveau modeset=0 >> /etc/modprobe.d/blacklist-nvidia-nouveau.conf\"\n",
    "cat /etc/modprobe.d/blacklist-nvidia-nouveau.conf\n",
    "sudo update-initramfs -u\n",
    "\n",
    "\n",
    "sudo su\n",
    "sudo service lightdm stop ## if you are using 11.04 replace `lightdm` with `gdm`\n",
    "chmod +x NVIDIA-Linux-x86_64-285.05.09.run\n",
    "sudo sh NVIDIA-Linux-x86_64-285.05.09.run\n",
    "\n",
    "\n",
    "#AIRCRACK-NG/RTL8812AU\n",
    "sudo apt-get update\n",
    "sudo apt-get install -y build-essential bc libelf-dev linux-headers-`uname -r`\n",
    "cd ~\n",
    "git clone -b v5.6.4.2 https://github.com/aircrack-ng/rtl8812au.git\n",
    "cd rtl8812au\n",
    "sudo ./dkms-install.sh\n",
    "#sudo ./dkms-remove.sh\n",
    "\n",
    "#For Raspberry (RPI)\n",
    "#sudo apt-get install bc raspberrypi-kernel-headers\n",
    "\n",
    "#Then run this step to change platform in Makefile, For RPI 1/2/3/ & 0/Zero:\n",
    "#sed -i 's/CONFIG_PLATFORM_I386_PC = y/CONFIG_PLATFORM_I386_PC = n/g' Makefile\n",
    "#sed -i 's/CONFIG_PLATFORM_ARM_RPI = n/CONFIG_PLATFORM_ARM_RPI = y/g' Makefile\n",
    "\n",
    "#But for RPI 3B+ & 4B you will need to run those below which builds the ARM64 arch driver:\n",
    "#sed -i 's/CONFIG_PLATFORM_I386_PC = y/CONFIG_PLATFORM_I386_PC = n/g' Makefile\n",
    "#sed -i 's/CONFIG_PLATFORM_ARM64_RPI = n/CONFIG_PLATFORM_ARM64_RPI = y/g' Makefile\n",
    "\n",
    "#In addition, if you receive an error message about unrecognized command #line option ‘-mgeneral-regs-only’ (i.e., Raspbian Buster), you will need to run the following commands:\n",
    "#sed -i 's/^dkms build/ARCH=arm dkms build/' dkms-install.sh\n",
    "#sed -i 's/^MAKE=\"/MAKE=\"ARCH=arm\\ /' dkms.conf\n"
   ]
  },
  {
   "cell_type": "code",
   "execution_count": null,
   "metadata": {},
   "outputs": [],
   "source": [
    "# Pacman\n",
    "!sudo apt install -y flatpak \n",
    "!sudo apt install -y snapd"
   ]
  },
  {
   "cell_type": "code",
   "execution_count": 5,
   "metadata": {
    "tags": []
   },
   "outputs": [
    {
     "output_type": "stream",
     "name": "stdout",
     "text": "\n\n\nbc is already the newest version (1.07.1-2build1).\nbuild-essential is already the newest version (12.8ubuntu1).\ngit is already the newest version (1:2.25.1-1ubuntu3).\nlibelf-dev is already the newest version (0.176-1.1build1).\nlinux-headers-5.4.0-7625-generic is already the newest version (5.4.0-7625.29~1587437458~20.04~2960161).\n0 upgraded, 0 newly installed, 0 to remove and 312 not upgraded.\n\n\n\ndkms is already the newest version (2.8.1-5ubuntu1).\n0 upgraded, 0 newly installed, 0 to remove and 312 not upgraded.\n\n\n\nwget is already the newest version (1.20.3-1ubuntu1).\ngdebi-core is already the newest version (0.9.5.7+nmu3).\n0 upgraded, 0 newly installed, 0 to remove and 312 not upgraded.\n\n\n\nwget is already the newest version (1.20.3-1ubuntu1).\napt-transport-https is already the newest version (2.0.2ubuntu0.1).\nsoftware-properties-common is already the newest version (0.98.9.1).\n0 upgraded, 0 newly installed, 0 to remove and 312 not upgraded.\n\n\n\ngparted is already the newest version (1.0.0-0.1build1).\nclonezilla is already the newest version (3.35.2-1).\ntrash-cli is already the newest version (0.17.1.14-2ubuntu1).\n0 upgraded, 0 newly installed, 0 to remove and 312 not upgraded.\n\n\n\ndconf-editor is already the newest version (3.36.0-1).\ngnome-shell-extensions is already the newest version (3.36.1-1).\ngnome-tweak-tool is already the newest version (3.34.0-2ubuntu1).\n0 upgraded, 0 newly installed, 0 to remove and 312 not upgraded.\n\n\n\nlibcanberra-gtk3-module is already the newest version (0.30-7ubuntu1).\nlibcanberra-gtk-module is already the newest version (0.30-7ubuntu1).\n0 upgraded, 0 newly installed, 0 to remove and 312 not upgraded.\n\n\n\ngedit-plugins is already the newest version (3.36.2-1).\n0 upgraded, 0 newly installed, 0 to remove and 312 not upgraded.\n\n\n\npython3 is already the newest version (3.8.2-0ubuntu2).\npython3-pip is already the newest version (20.0.2-5ubuntu1).\n0 upgraded, 0 newly installed, 0 to remove and 312 not upgraded.\n\n\n\nE: Unable to locate package python-pip\n\n\n\nnpm is already the newest version (6.14.4+ds-1ubuntu2).\n0 upgraded, 0 newly installed, 0 to remove and 312 not upgraded.\n\n\n\nadb is already the newest version (1:8.1.0+r23-5ubuntu2).\n0 upgraded, 0 newly installed, 0 to remove and 312 not upgraded.\n\n\n\nqtbase5-private-dev is already the newest version (5.12.8+dfsg-0ubuntu1).\n0 upgraded, 0 newly installed, 0 to remove and 312 not upgraded.\n\n\n\ninxi is already the newest version (3.0.38-1-0ubuntu1).\n0 upgraded, 0 newly installed, 0 to remove and 312 not upgraded.\n\n\n\nqbittorrent is already the newest version (4.1.7-1ubuntu3).\nvlc is already the newest version (3.0.9.2-1).\nsteam:i386 is already the newest version (1:1.0.0.61-2ubuntu3pop1~1589321077~20.04~924095c).\n0 upgraded, 0 newly installed, 0 to remove and 312 not upgraded.\n\n\n\nsolaar is already the newest version (1.0.1+dfsg-3).\n0 upgraded, 0 newly installed, 0 to remove and 312 not upgraded.\n\n\n\nautokey-gtk is already the newest version (0.95.10-1).\n0 upgraded, 0 newly installed, 0 to remove and 312 not upgraded.\n\n\n\nanki is already the newest version (2.1.15+dfsg-1).\n0 upgraded, 0 newly installed, 0 to remove and 312 not upgraded.\n\n\n\nhandbrake is already the newest version (1.3.1+ds1-1build1).\n0 upgraded, 0 newly installed, 0 to remove and 312 not upgraded.\n\n\n\nxclip is already the newest version (0.13-1).\n0 upgraded, 0 newly installed, 0 to remove and 312 not upgraded.\n\n\n\nopenvpn is already the newest version (2.4.7-1ubuntu2).\n0 upgraded, 0 newly installed, 0 to remove and 312 not upgraded.\nHit:1 http://dl.google.com/linux/chrome/deb stable InRelease\nHit:2 http://apt.pop-os.org/proprietary focal InRelease\nIgn:3 http://repo.vivaldi.com/stable/deb stable InRelease\nHit:4 http://repo.vivaldi.com/stable/deb stable Release\nGet:7 http://ppa.launchpad.net/christian-boxdoerfer/fsearch-daily/ubuntu focal InRelease [24.3 kB]\nHit:8 http://us.archive.ubuntu.com/ubuntu focal InRelease\nGet:9 http://us.archive.ubuntu.com/ubuntu focal-security InRelease [107 kB]\nHit:6 https://packagecloud.io/shiftkey/desktop/any any InRelease\nHit:10 http://ppa.launchpad.net/system76/pop/ubuntu focal InRelease\nGet:11 http://us.archive.ubuntu.com/ubuntu focal-updates InRelease [111 kB]\nGet:12 http://ppa.launchpad.net/christian-boxdoerfer/fsearch-daily/ubuntu focal/main amd64 Packages [540 B]\nGet:13 http://us.archive.ubuntu.com/ubuntu focal-backports InRelease [98.3 kB]\nGet:14 http://us.archive.ubuntu.com/ubuntu focal-security/main amd64 DEP-11 Metadata [21.2 kB]\nGet:15 http://us.archive.ubuntu.com/ubuntu focal-security/universe amd64 DEP-11 Metadata [35.8 kB]\nGet:16 http://ppa.launchpad.net/christian-boxdoerfer/fsearch-daily/ubuntu focal/main Translation-en [300 B]\nGet:17 http://us.archive.ubuntu.com/ubuntu focal-updates/main amd64 Packages [310 kB]\nGet:18 http://us.archive.ubuntu.com/ubuntu focal-updates/main i386 Packages [187 kB]\nGet:19 http://us.archive.ubuntu.com/ubuntu focal-updates/main amd64 DEP-11 Metadata [196 kB]\nGet:20 http://us.archive.ubuntu.com/ubuntu focal-updates/universe amd64 DEP-11 Metadata [176 kB]\nGet:21 http://us.archive.ubuntu.com/ubuntu focal-updates/multiverse amd64 DEP-11 Metadata [2,468 B]\nGet:22 http://us.archive.ubuntu.com/ubuntu focal-backports/universe amd64 DEP-11 Metadata [1,972 B]\nFetched 1,272 kB in 5s (247 kB/s)\n\n\n\n\nThe following NEW packages will be installed:\n  fsearch-trunk\n0 upgraded, 1 newly installed, 0 to remove and 312 not upgraded.\nNeed to get 86.1 kB of archives.\nAfter this operation, 378 kB of additional disk space will be used.\nGet:1 http://ppa.launchpad.net/christian-boxdoerfer/fsearch-daily/ubuntu focal/main amd64 fsearch-trunk amd64 20200724+r450.0baf1d0~ubuntu20.04.1 [86.1 kB]\nFetched 86.1 kB in 3s (33.0 kB/s)\nSelecting previously unselected package fsearch-trunk.\n(Reading database ... 253112 files and directories currently installed.)\nPreparing to unpack .../fsearch-trunk_20200724+r450.0baf1d0~ubuntu20.04.1_amd64.deb ...\nUnpacking fsearch-trunk (20200724+r450.0baf1d0~ubuntu20.04.1) ...\nSetting up fsearch-trunk (20200724+r450.0baf1d0~ubuntu20.04.1) ...\nProcessing triggers for mime-support (3.64ubuntu1) ...\nProcessing triggers for gnome-menus (3.36.0-1ubuntu1) ...\nProcessing triggers for desktop-file-utils (0.24-1ubuntu2) ...\n"
    }
   ],
   "source": [
    "# Others\n",
    "!sudo apt-get install -y git build-essential bc libelf-dev linux-headers-`uname -r`\n",
    "!sudo apt-get install -y dkms\n",
    "!sudo apt-get install -y gdebi-core wget\n",
    "!sudo apt-get install -y software-properties-common apt-transport-https wget\n",
    "!sudo apt-get install -y gparted clonezilla trash-cli\n",
    "!sudo apt-get install -y gnome-tweak-tool gnome-shell-extensions dconf-editor\n",
    "!sudo apt-get install -y libcanberra-gtk-module libcanberra-gtk3-module\n",
    "!sudo apt-get install -y gedit-plugins\n",
    "!sudo apt-get install -y python3 python3-pip\n",
    "!sudo apt-get install -y python python-setuptools python-pip\n",
    "!sudo apt-get install -y npm\n",
    "!sudo apt-get install -y adb\n",
    "!sudo apt-get install -y qtbase5-private-dev\n",
    "!sudo apt-get install -y inxi\n",
    "!sudo apt-get install -y qbittorrent vlc steam\n",
    "!sudo apt-get install -y solaar\n",
    "!sudo apt-get install -y autokey-gtk\n",
    "!sudo apt-get install -y anki\n",
    "!sudo apt-get install -y handbrake\n",
    "!sudo apt-get install -y xclip \n",
    "!sudo apt-get install -y openvpn\n",
    "#!sudo apt-get install -y playonlinux samba winbind winetricks ovmf\n",
    "#!pip install urllib3 chardet\n",
    "#!sudo pip install -U requests\n",
    "\n",
    "#FSEARCH\n",
    "!sudo add-apt-repository -y ppa:christian-boxdoerfer/fsearch-daily\n",
    "!sudo apt-get install -y fsearch-trunk\n",
    "!curl -sLo- http://get.bpkg.sh | bash\n",
    "\n"
   ]
  },
  {
   "cell_type": "code",
   "execution_count": 1,
   "metadata": {
    "tags": []
   },
   "outputs": [
    {
     "output_type": "stream",
     "name": "stdout",
     "text": "snap \"bing-wall\" is already installed, see 'snap help refresh'\nsnap \"p7zip-desktop\" is already installed, see 'snap help refresh'\nsnap \"anki-woodrow\" is already installed, see 'snap help refresh'\nsnap \"code\" is already installed, see 'snap help refresh'\nsnap \"node-red\" is already installed, see 'snap help refresh'\nsnap \"spotify\" is already installed, see 'snap help refresh'\nsnap \"discord\" is already installed, see 'snap help refresh'\nsnap \"zoom-client\" is already installed, see 'snap help refresh'\nsnap \"gimp\" is already installed, see 'snap help refresh'\nsnap \"drawio\" is already installed, see 'snap help refresh'\nsnap \"obs-studio\" is already installed, see 'snap help refresh'\nerror: snap \"anbox\" is not available on stable but is available to install on\n       the following channels:\n\n       beta       snap install --beta anbox\n       edge       snap install --edge anbox\n\n       Please be mindful pre-release channels may include features not\n       completely tested or implemented. Get more information with 'snap info\n       anbox'.\n"
    }
   ],
   "source": [
    "# snap packages\n",
    "!sudo snap install p3x-onenote\n",
    "!sudo snap install bing-wall\n",
    "!sudo snap install p7zip-desktop\n",
    "!sudo snap install anki-woodrow\n",
    "!sudo snap install scrcpy\n",
    "#!sudo snap install droidcam\n",
    "!sudo snap install code --classic \n",
    "!sudo snap install node-red\n",
    "!sudo snap install spotify\n",
    "!sudo snap install discord\n",
    "!sudo snap install zoom-client\n",
    "!sudo snap install photogimp\n",
    "#!sudo snap install gimp\n",
    "!sudo snap install drawio\n",
    "!sudo snap install obs-studio\n",
    "!sudo snap install epsxe --candidate\n",
    "!sudo snap install anbox --beta\n",
    "\n",
    "#ANBOX\n",
    "sudo snap install --beta --devmode anbox\n",
    "anbox session-manager\n",
    "anbox.appmgr\n",
    "sudo apt update\n",
    "sudo apt install dbus-x11\n",
    "export $(dbus-launch)\n",
    "anbox session-manager\n",
    "anbox.appmgr\n",
    "\n",
    "#sudo snap install --classic atom\n",
    "#sudo snap install flutter-gallery\n",
    "#!sudo snap install mc-installer\n",
    "#!sudo snap install wavebox\n",
    "\n",
    "#VSCODE\n",
    "\"\"\"\n",
    "#https://linuxize.com/post/how-to-install-visual-studio-code-on-ubuntu-18-04/\n",
    "!wget -q https://packages.microsoft.com/keys/microsoft.asc -O- | sudo apt-key add -\n",
    "!sudo add-apt-repository \"deb [arch=amd64] https://packages.microsoft.com/repos/vscode stable main\" -y\n",
    "!sudo apt update\n",
    "!sudo apt-get install code -y\n",
    "\"\"\""
   ]
  },
  {
   "cell_type": "code",
   "execution_count": null,
   "metadata": {},
   "outputs": [],
   "source": [
    "#LTUNIFY\n",
    "cd ~\n",
    "git clone https://git.lekensteyn.nl/ltunify.git\n",
    "cd ltunify\n",
    "make install-home\n",
    "sudo ltunify list\n",
    "sudo ~/bin/ltunify list\n",
    "sudo ~/bin/ltunify pair"
   ]
  },
  {
   "cell_type": "code",
   "execution_count": null,
   "metadata": {},
   "outputs": [],
   "source": [
    "#BOOSTNOTE\n",
    "wget https://github.com/BoostIO/BoostNote.next/releases/latest/download/boost-note-linux.deb\n",
    "sudo dpkg -i boost-note-linux.deb"
   ]
  },
  {
   "cell_type": "code",
   "execution_count": null,
   "metadata": {},
   "outputs": [],
   "source": [
    "#INSTALLWIN10THEME\n",
    "\n",
    "#OLD\n",
    "\"\"\"\n",
    "cd ~/Documents/Docs/mlinuxproject/usbboot/Documents3/TW\n",
    "wget https://raw.githubusercontent.com/bill-mavromatis/gnome-layout-manager/master/layoutmanager.sh\n",
    "chmod +x layout*\n",
    "./layoutmanager.sh\n",
    "\n",
    "\n",
    "https://github.com/B00merang-Project/TransPack/archive/master.zip\n",
    "git clone https://github.com/B00merang-Project/TransPack/archive/master\n",
    "cd TransPack\n",
    "chmod +x install.sh\n",
    "./install.sh\n",
    "\n",
    "#cd ~/Downloads\n",
    "cd ~\n",
    "git clone https://github.com/B00merang-Project/Windows-10.git\n",
    "#unzip Windows-10-2.0.1.zip\n",
    "mkdir ~/.themes\n",
    "mv ~/Windows-10 ~/.themes\n",
    "#sudo apt-get install -y unity-tweak-tool\n",
    "#unity-tweak-tool\n",
    "sudo apt-get install -y gnome-tweaks\n",
    "\"\"\""
   ]
  },
  {
   "cell_type": "code",
   "execution_count": null,
   "metadata": {},
   "outputs": [],
   "source": [
    "#BT\n",
    "sudo apt-get install -y bluetooth bluez bluez-tools rfkill\n",
    "sudo apt-get install -y blueman\n",
    "#PULSEAUDIO\n",
    "sudo apt-get install -y --reinstall alsa-base pulseaudio\n",
    "sudo apt-get install -y libsdl2-dev\n",
    "sudo apt-get install -y build-essential\n",
    "sudo apt-get install -y cmake git\n",
    "sudo apt-get install -y libqt5webenginewidgets5 libsndio-dev qtbase5-dev libqt5opengl5-dev\n",
    "sudo apt-get install -y pulseaudio\n",
    "\n",
    "\n",
    "sudo apt-get install -y adobereader-enu\n",
    "sudo apt-get install -y gdebi-core libxml2:i386 libcanberra-gtk-module:i386 gtk2-engines-murrine:i386 libatk-adaptor:i386\n",
    "sudo apt-get install -y sudo apt-get install qtbase5-dev libqt5opengl5-dev\n",
    "sudo apt-get install -y libsdl2-dev\n",
    "sudo apt-get install -y conan\n",
    "sudo apt-get install -y boost catch2 fmt nlohmann-json conan sndio\n",
    "sudo apt-get install -y flightgear"
   ]
  },
  {
   "cell_type": "code",
   "execution_count": null,
   "metadata": {},
   "outputs": [],
   "source": [
    "#INSTALLVBOX\n",
    "sudo apt install -y virtualbox\n",
    "sudo modprobe vboxdrv"
   ]
  },
  {
   "cell_type": "code",
   "execution_count": 4,
   "metadata": {
    "tags": [
     "outputPrepend"
    ]
   },
   "outputs": [
    {
     "output_type": "stream",
     "name": "stdout",
     "text": "libafflib0v5 libaugeas0 libconfig9 libdate-manip-perl libewf2\n  libf2fs-format4 libf2fs5 libguestfs-hfsplus libguestfs-perl\n  libguestfs-reiserfs libguestfs-xfs libguestfs0 libhfsp0 libhivex0\n  libintl-perl libintl-xs-perl libldm-1.0-0 libnetpbm10 libsigsegv2\n  libstring-shellquote-perl libsys-virt-perl libtsk13 libwin-hivex-perl\n  libxml-xpath-perl libyara3 lsscsi lzop netpbm reiserfsprogs scrub sleuthkit\n  supermin xfsprogs zerofree\nSuggested packages:\n  augeas-doc duperemove arch-test squid-deb-proxy-client gawk-doc\n  libterm-readline-gnu-perl | libterm-readline-perl-perl augeas-tools\n  libguestfs-gfs2 libguestfs-jfs libguestfs-nilfs libguestfs-rescue\n  libguestfs-rsync libguestfs-zfs autopsy mac-robber user-mode-linux xfsdump\n  quota\nRecommended packages:\n  linux-image-amd64\nThe following NEW packages will be installed:\n  attr augeas-lenses btrfs-progs db-util db5.3-util debootstrap dmg2img\n  exfat-fuse exfat-utils extlinux f2fs-tools gawk hfsplus icoutils kpartx\n  ldmtool libafflib0v5 libaugeas0 libconfig9 libdate-manip-perl libewf2\n  libf2fs-format4 libf2fs5 libguestfs-hfsplus libguestfs-perl\n  libguestfs-reiserfs libguestfs-tools libguestfs-xfs libguestfs0 libhfsp0\n  libhivex0 libintl-perl libintl-xs-perl libldm-1.0-0 libnetpbm10 libsigsegv2\n  libstring-shellquote-perl libsys-virt-perl libtsk13 libwin-hivex-perl\n  libxml-xpath-perl libyara3 lsscsi lzop netpbm qemu reiserfsprogs scrub\n  sleuthkit supermin uml-utilities xfsprogs zerofree\n0 upgraded, 53 newly installed, 0 to remove and 312 not upgraded.\nNeed to get 17.9 MB of archives.\nAfter this operation, 91.3 MB of additional disk space will be used.\nGet:1 http://us.archive.ubuntu.com/ubuntu focal/main amd64 libsigsegv2 amd64 2.12-2 [13.9 kB]\nGet:2 http://us.archive.ubuntu.com/ubuntu focal/main amd64 gawk amd64 1:5.0.1+dfsg-1 [418 kB]\nGet:3 http://us.archive.ubuntu.com/ubuntu focal/main amd64 attr amd64 1:2.4.48-5 [21.9 kB]\nGet:4 http://us.archive.ubuntu.com/ubuntu focal/universe amd64 augeas-lenses all 1.12.0-1build1 [308 kB]\nGet:5 http://us.archive.ubuntu.com/ubuntu focal/main amd64 btrfs-progs amd64 5.4.1-2 [654 kB]\nGet:6 http://us.archive.ubuntu.com/ubuntu focal/main amd64 db5.3-util amd64 5.3.28+dfsg1-0.6ubuntu2 [65.3 kB]\nGet:7 http://us.archive.ubuntu.com/ubuntu focal/universe amd64 dmg2img amd64 1.6.7-1build1 [21.4 kB]\nGet:8 http://us.archive.ubuntu.com/ubuntu focal/universe amd64 exfat-fuse amd64 1.3.0-1 [24.6 kB]\nGet:9 http://us.archive.ubuntu.com/ubuntu focal/universe amd64 exfat-utils amd64 1.3.0-1 [40.7 kB]\nGet:10 http://us.archive.ubuntu.com/ubuntu focal/universe amd64 extlinux amd64 3:6.04~git20190206.bf6db5b4+dfsg1-2 [144 kB]\nGet:11 http://us.archive.ubuntu.com/ubuntu focal/universe amd64 libf2fs5 amd64 1.11.0-1.1ubuntu1 [14.1 kB]\nGet:12 http://us.archive.ubuntu.com/ubuntu focal/universe amd64 libf2fs-format4 amd64 1.11.0-1.1ubuntu1 [16.6 kB]\nGet:13 http://us.archive.ubuntu.com/ubuntu focal/universe amd64 f2fs-tools amd64 1.11.0-1.1ubuntu1 [154 kB]\nGet:14 http://us.archive.ubuntu.com/ubuntu focal/main amd64 libhfsp0 amd64 1.0.4-15 [33.8 kB]\nGet:15 http://us.archive.ubuntu.com/ubuntu focal/main amd64 hfsplus amd64 1.0.4-15 [40.9 kB]\nGet:16 http://us.archive.ubuntu.com/ubuntu focal/universe amd64 icoutils amd64 0.32.3-3 [62.3 kB]\nGet:17 http://us.archive.ubuntu.com/ubuntu focal/universe amd64 libafflib0v5 amd64 3.7.18-3 [204 kB]\nGet:18 http://us.archive.ubuntu.com/ubuntu focal/universe amd64 libaugeas0 amd64 1.12.0-1build1 [195 kB]\nGet:19 http://us.archive.ubuntu.com/ubuntu focal/universe amd64 libconfig9 amd64 1.5-0.4build1 [22.3 kB]\nGet:20 http://us.archive.ubuntu.com/ubuntu focal/main amd64 libdate-manip-perl all 6.79-1 [908 kB]\nGet:21 http://us.archive.ubuntu.com/ubuntu focal/universe amd64 libewf2 amd64 20140807-2build1 [513 kB]\nGet:22 http://us.archive.ubuntu.com/ubuntu focal/universe amd64 libintl-perl all 1.26-2build4 [724 kB]\nGet:23 http://us.archive.ubuntu.com/ubuntu focal/universe amd64 libintl-xs-perl amd64 1.26-2build4 [12.8 kB]\nGet:24 http://us.archive.ubuntu.com/ubuntu focal/universe amd64 libnetpbm10 amd64 2:10.0-15.3build1 [58.0 kB]\nGet:25 http://us.archive.ubuntu.com/ubuntu focal/main amd64 libstring-shellquote-perl all 1.04-1 [12.0 kB]\nGet:26 http://us.archive.ubuntu.com/ubuntu focal/universe amd64 libsys-virt-perl amd64 5.0.0-1build1 [251 kB]\nGet:27 http://us.archive.ubuntu.com/ubuntu focal/universe amd64 libtsk13 amd64 4.6.7-1build1 [340 kB]\nGet:28 http://us.archive.ubuntu.com/ubuntu focal/universe amd64 libxml-xpath-perl all 1.44-1 [66.2 kB]\nGet:29 http://us.archive.ubuntu.com/ubuntu focal/universe amd64 libyara3 amd64 3.9.0-1 [135 kB]\nGet:30 http://us.archive.ubuntu.com/ubuntu focal/main amd64 lsscsi amd64 0.30-0.1 [46.1 kB]\nGet:31 http://us.archive.ubuntu.com/ubuntu focal/universe amd64 lzop amd64 1.04-1 [82.8 kB]\nGet:32 http://us.archive.ubuntu.com/ubuntu focal/universe amd64 netpbm amd64 2:10.0-15.3build1 [1,017 kB]\nGet:33 http://us.archive.ubuntu.com/ubuntu focal-updates/main amd64 qemu amd64 1:4.2-3ubuntu6.3 [15.0 kB]\nGet:34 http://us.archive.ubuntu.com/ubuntu focal/main amd64 reiserfsprogs amd64 1:3.6.27-3 [235 kB]\nGet:35 http://us.archive.ubuntu.com/ubuntu focal/universe amd64 sleuthkit amd64 4.6.7-1build1 [252 kB]\nGet:36 http://us.archive.ubuntu.com/ubuntu focal/universe amd64 supermin amd64 5.1.20-2ubuntu1 [424 kB]\nGet:37 http://us.archive.ubuntu.com/ubuntu focal/main amd64 xfsprogs amd64 5.3.0-1ubuntu2 [773 kB]\nGet:38 http://us.archive.ubuntu.com/ubuntu focal/main amd64 db-util all 1:5.3.21~exp1ubuntu2 [2,718 B]\nGet:39 http://us.archive.ubuntu.com/ubuntu focal-updates/main amd64 debootstrap all 1.0.118ubuntu1.1 [39.4 kB]\nGet:40 http://us.archive.ubuntu.com/ubuntu focal/main amd64 kpartx amd64 0.8.3-1ubuntu2 [28.0 kB]\nGet:41 http://us.archive.ubuntu.com/ubuntu focal/universe amd64 libldm-1.0-0 amd64 0.2.4-3 [21.8 kB]\nGet:42 http://us.archive.ubuntu.com/ubuntu focal/universe amd64 ldmtool amd64 0.2.4-3 [13.3 kB]\nGet:43 http://us.archive.ubuntu.com/ubuntu focal/universe amd64 libhivex0 amd64 1.3.18-2build2 [32.9 kB]\nGet:44 http://us.archive.ubuntu.com/ubuntu focal/universe amd64 scrub amd64 2.6.1-1build2 [30.8 kB]\nGet:45 http://us.archive.ubuntu.com/ubuntu focal/main amd64 zerofree amd64 1.1.1-1 [8,520 B]\nGet:46 http://us.archive.ubuntu.com/ubuntu focal/universe amd64 libguestfs0 amd64 1:1.40.2-7ubuntu5 [3,031 kB]\nGet:47 http://us.archive.ubuntu.com/ubuntu focal/universe amd64 libguestfs-hfsplus amd64 1:1.40.2-7ubuntu5 [1,768 B]\nGet:48 http://us.archive.ubuntu.com/ubuntu focal/universe amd64 libwin-hivex-perl amd64 1.3.18-2build2 [38.3 kB]\nGet:49 http://us.archive.ubuntu.com/ubuntu focal/universe amd64 libguestfs-perl amd64 1:1.40.2-7ubuntu5 [297 kB]\nGet:50 http://us.archive.ubuntu.com/ubuntu focal/universe amd64 libguestfs-reiserfs amd64 1:1.40.2-7ubuntu5 [1,784 B]\nGet:51 http://us.archive.ubuntu.com/ubuntu focal/universe amd64 libguestfs-tools amd64 1:1.40.2-7ubuntu5 [5,997 kB]\nGet:52 http://us.archive.ubuntu.com/ubuntu focal/universe amd64 libguestfs-xfs amd64 1:1.40.2-7ubuntu5 [1,772 B]\nGet:53 http://us.archive.ubuntu.com/ubuntu focal/universe amd64 uml-utilities amd64 20070815.3-1 [50.3 kB]\nFetched 17.9 MB in 10s (1,857 kB/s)\nExtracting templates from packages: 100%\nSelecting previously unselected package libsigsegv2:amd64.\n(Reading database ... 249548 files and directories currently installed.)\nPreparing to unpack .../libsigsegv2_2.12-2_amd64.deb ...\nUnpacking libsigsegv2:amd64 (2.12-2) ...\nSetting up libsigsegv2:amd64 (2.12-2) ...\nSelecting previously unselected package gawk.\n(Reading database ... 249555 files and directories currently installed.)\nPreparing to unpack .../00-gawk_1%3a5.0.1+dfsg-1_amd64.deb ...\nUnpacking gawk (1:5.0.1+dfsg-1) ...\nSelecting previously unselected package attr.\nPreparing to unpack .../01-attr_1%3a2.4.48-5_amd64.deb ...\nUnpacking attr (1:2.4.48-5) ...\nSelecting previously unselected package augeas-lenses.\nPreparing to unpack .../02-augeas-lenses_1.12.0-1build1_all.deb ...\nUnpacking augeas-lenses (1.12.0-1build1) ...\nSelecting previously unselected package btrfs-progs.\nPreparing to unpack .../03-btrfs-progs_5.4.1-2_amd64.deb ...\nUnpacking btrfs-progs (5.4.1-2) ...\nSelecting previously unselected package db5.3-util.\nPreparing to unpack .../04-db5.3-util_5.3.28+dfsg1-0.6ubuntu2_amd64.deb ...\nUnpacking db5.3-util (5.3.28+dfsg1-0.6ubuntu2) ...\nSelecting previously unselected package dmg2img.\nPreparing to unpack .../05-dmg2img_1.6.7-1build1_amd64.deb ...\nUnpacking dmg2img (1.6.7-1build1) ...\nSelecting previously unselected package exfat-fuse.\nPreparing to unpack .../06-exfat-fuse_1.3.0-1_amd64.deb ...\nUnpacking exfat-fuse (1.3.0-1) ...\nSelecting previously unselected package exfat-utils.\nPreparing to unpack .../07-exfat-utils_1.3.0-1_amd64.deb ...\nUnpacking exfat-utils (1.3.0-1) ...\nSelecting previously unselected package extlinux.\nPreparing to unpack .../08-extlinux_3%3a6.04~git20190206.bf6db5b4+dfsg1-2_amd64.deb ...\nUnpacking extlinux (3:6.04~git20190206.bf6db5b4+dfsg1-2) ...\nSelecting previously unselected package libf2fs5:amd64.\nPreparing to unpack .../09-libf2fs5_1.11.0-1.1ubuntu1_amd64.deb ...\nUnpacking libf2fs5:amd64 (1.11.0-1.1ubuntu1) ...\nSelecting previously unselected package libf2fs-format4:amd64.\nPreparing to unpack .../10-libf2fs-format4_1.11.0-1.1ubuntu1_amd64.deb ...\nUnpacking libf2fs-format4:amd64 (1.11.0-1.1ubuntu1) ...\nSelecting previously unselected package f2fs-tools.\nPreparing to unpack .../11-f2fs-tools_1.11.0-1.1ubuntu1_amd64.deb ...\nUnpacking f2fs-tools (1.11.0-1.1ubuntu1) ...\nSelecting previously unselected package libhfsp0.\nPreparing to unpack .../12-libhfsp0_1.0.4-15_amd64.deb ...\nUnpacking libhfsp0 (1.0.4-15) ...\nSelecting previously unselected package hfsplus.\nPreparing to unpack .../13-hfsplus_1.0.4-15_amd64.deb ...\nUnpacking hfsplus (1.0.4-15) ...\nSelecting previously unselected package icoutils.\nPreparing to unpack .../14-icoutils_0.32.3-3_amd64.deb ...\nUnpacking icoutils (0.32.3-3) ...\nSelecting previously unselected package libafflib0v5.\nPreparing to unpack .../15-libafflib0v5_3.7.18-3_amd64.deb ...\nUnpacking libafflib0v5 (3.7.18-3) ...\nSelecting previously unselected package libaugeas0:amd64.\nPreparing to unpack .../16-libaugeas0_1.12.0-1build1_amd64.deb ...\nUnpacking libaugeas0:amd64 (1.12.0-1build1) ...\nSelecting previously unselected package libconfig9:amd64.\nPreparing to unpack .../17-libconfig9_1.5-0.4build1_amd64.deb ...\nUnpacking libconfig9:amd64 (1.5-0.4build1) ...\nSelecting previously unselected package libdate-manip-perl.\nPreparing to unpack .../18-libdate-manip-perl_6.79-1_all.deb ...\nUnpacking libdate-manip-perl (6.79-1) ...\nSelecting previously unselected package libewf2.\nPreparing to unpack .../19-libewf2_20140807-2build1_amd64.deb ...\nUnpacking libewf2 (20140807-2build1) ...\nSelecting previously unselected package libintl-perl.\nPreparing to unpack .../20-libintl-perl_1.26-2build4_all.deb ...\nUnpacking libintl-perl (1.26-2build4) ...\nSelecting previously unselected package libintl-xs-perl.\nPreparing to unpack .../21-libintl-xs-perl_1.26-2build4_amd64.deb ...\nUnpacking libintl-xs-perl (1.26-2build4) ...\nSelecting previously unselected package libnetpbm10.\nPreparing to unpack .../22-libnetpbm10_2%3a10.0-15.3build1_amd64.deb ...\nUnpacking libnetpbm10 (2:10.0-15.3build1) ...\nSelecting previously unselected package libstring-shellquote-perl.\nPreparing to unpack .../23-libstring-shellquote-perl_1.04-1_all.deb ...\nUnpacking libstring-shellquote-perl (1.04-1) ...\nSelecting previously unselected package libsys-virt-perl.\nPreparing to unpack .../24-libsys-virt-perl_5.0.0-1build1_amd64.deb ...\nUnpacking libsys-virt-perl (5.0.0-1build1) ...\nSelecting previously unselected package libtsk13.\nPreparing to unpack .../25-libtsk13_4.6.7-1build1_amd64.deb ...\nUnpacking libtsk13 (4.6.7-1build1) ...\nSelecting previously unselected package libxml-xpath-perl.\nPreparing to unpack .../26-libxml-xpath-perl_1.44-1_all.deb ...\nUnpacking libxml-xpath-perl (1.44-1) ...\nSelecting previously unselected package libyara3:amd64.\nPreparing to unpack .../27-libyara3_3.9.0-1_amd64.deb ...\nUnpacking libyara3:amd64 (3.9.0-1) ...\nSelecting previously unselected package lsscsi.\nPreparing to unpack .../28-lsscsi_0.30-0.1_amd64.deb ...\nUnpacking lsscsi (0.30-0.1) ...\nSelecting previously unselected package lzop.\nPreparing to unpack .../29-lzop_1.04-1_amd64.deb ...\nUnpacking lzop (1.04-1) ...\nSelecting previously unselected package netpbm.\nPreparing to unpack .../30-netpbm_2%3a10.0-15.3build1_amd64.deb ...\nUnpacking netpbm (2:10.0-15.3build1) ...\nSelecting previously unselected package qemu.\nPreparing to unpack .../31-qemu_1%3a4.2-3ubuntu6.3_amd64.deb ...\nUnpacking qemu (1:4.2-3ubuntu6.3) ...\nSelecting previously unselected package reiserfsprogs.\nPreparing to unpack .../32-reiserfsprogs_1%3a3.6.27-3_amd64.deb ...\nUnpacking reiserfsprogs (1:3.6.27-3) ...\nSelecting previously unselected package sleuthkit.\nPreparing to unpack .../33-sleuthkit_4.6.7-1build1_amd64.deb ...\nUnpacking sleuthkit (4.6.7-1build1) ...\nSelecting previously unselected package supermin.\nPreparing to unpack .../34-supermin_5.1.20-2ubuntu1_amd64.deb ...\nUnpacking supermin (5.1.20-2ubuntu1) ...\nSelecting previously unselected package xfsprogs.\nPreparing to unpack .../35-xfsprogs_5.3.0-1ubuntu2_amd64.deb ...\nUnpacking xfsprogs (5.3.0-1ubuntu2) ...\nSelecting previously unselected package db-util.\nPreparing to unpack .../36-db-util_1%3a5.3.21~exp1ubuntu2_all.deb ...\nUnpacking db-util (1:5.3.21~exp1ubuntu2) ...\nSelecting previously unselected package debootstrap.\nPreparing to unpack .../37-debootstrap_1.0.118ubuntu1.1_all.deb ...\nUnpacking debootstrap (1.0.118ubuntu1.1) ...\nSelecting previously unselected package kpartx.\nPreparing to unpack .../38-kpartx_0.8.3-1ubuntu2_amd64.deb ...\nUnpacking kpartx (0.8.3-1ubuntu2) ...\nSelecting previously unselected package libldm-1.0-0:amd64.\nPreparing to unpack .../39-libldm-1.0-0_0.2.4-3_amd64.deb ...\nUnpacking libldm-1.0-0:amd64 (0.2.4-3) ...\nSelecting previously unselected package ldmtool.\nPreparing to unpack .../40-ldmtool_0.2.4-3_amd64.deb ...\nUnpacking ldmtool (0.2.4-3) ...\nSelecting previously unselected package libhivex0:amd64.\nPreparing to unpack .../41-libhivex0_1.3.18-2build2_amd64.deb ...\nUnpacking libhivex0:amd64 (1.3.18-2build2) ...\nSelecting previously unselected package scrub.\nPreparing to unpack .../42-scrub_2.6.1-1build2_amd64.deb ...\nUnpacking scrub (2.6.1-1build2) ...\nSelecting previously unselected package zerofree.\nPreparing to unpack .../43-zerofree_1.1.1-1_amd64.deb ...\nUnpacking zerofree (1.1.1-1) ...\nSelecting previously unselected package libguestfs0:amd64.\nPreparing to unpack .../44-libguestfs0_1%3a1.40.2-7ubuntu5_amd64.deb ...\nUnpacking libguestfs0:amd64 (1:1.40.2-7ubuntu5) ...\nSelecting previously unselected package libguestfs-hfsplus:amd64.\nPreparing to unpack .../45-libguestfs-hfsplus_1%3a1.40.2-7ubuntu5_amd64.deb ...\nUnpacking libguestfs-hfsplus:amd64 (1:1.40.2-7ubuntu5) ...\nSelecting previously unselected package libwin-hivex-perl.\nPreparing to unpack .../46-libwin-hivex-perl_1.3.18-2build2_amd64.deb ...\nUnpacking libwin-hivex-perl (1.3.18-2build2) ...\nSelecting previously unselected package libguestfs-perl.\nPreparing to unpack .../47-libguestfs-perl_1%3a1.40.2-7ubuntu5_amd64.deb ...\nUnpacking libguestfs-perl (1:1.40.2-7ubuntu5) ...\nSelecting previously unselected package libguestfs-reiserfs:amd64.\nPreparing to unpack .../48-libguestfs-reiserfs_1%3a1.40.2-7ubuntu5_amd64.deb ...\nUnpacking libguestfs-reiserfs:amd64 (1:1.40.2-7ubuntu5) ...\nSelecting previously unselected package libguestfs-tools.\nPreparing to unpack .../49-libguestfs-tools_1%3a1.40.2-7ubuntu5_amd64.deb ...\nUnpacking libguestfs-tools (1:1.40.2-7ubuntu5) ...\nSelecting previously unselected package libguestfs-xfs:amd64.\nPreparing to unpack .../50-libguestfs-xfs_1%3a1.40.2-7ubuntu5_amd64.deb ...\nUnpacking libguestfs-xfs:amd64 (1:1.40.2-7ubuntu5) ...\nSelecting previously unselected package uml-utilities.\nPreparing to unpack .../51-uml-utilities_20070815.3-1_amd64.deb ...\nUnpacking uml-utilities (20070815.3-1) ...\nSetting up libconfig9:amd64 (1.5-0.4build1) ...\nSetting up qemu (1:4.2-3ubuntu6.3) ...\nSetting up libldm-1.0-0:amd64 (0.2.4-3) ...\nSetting up zerofree (1.1.1-1) ...\nSetting up debootstrap (1.0.118ubuntu1.1) ...\nSetting up reiserfsprogs (1:3.6.27-3) ...\nupdate-initramfs: deferring update (trigger activated)\nSetting up libyara3:amd64 (3.9.0-1) ...\nSetting up gawk (1:5.0.1+dfsg-1) ...\nSetting up augeas-lenses (1.12.0-1build1) ...\nSetting up attr (1:2.4.48-5) ...\nSetting up btrfs-progs (5.4.1-2) ...\nupdate-initramfs: deferring update (trigger activated)\nSetting up libf2fs5:amd64 (1.11.0-1.1ubuntu1) ...\nSetting up libnetpbm10 (2:10.0-15.3build1) ...\nSetting up libstring-shellquote-perl (1.04-1) ...\nSetting up dmg2img (1.6.7-1build1) ...\nSetting up libxml-xpath-perl (1.44-1) ...\nSetting up libafflib0v5 (3.7.18-3) ...\nSetting up ldmtool (0.2.4-3) ...\nSetting up exfat-utils (1.3.0-1) ...\nSetting up libaugeas0:amd64 (1.12.0-1build1) ...\nSetting up icoutils (0.32.3-3) ...\nSetting up db5.3-util (5.3.28+dfsg1-0.6ubuntu2) ...\nSetting up xfsprogs (5.3.0-1ubuntu2) ...\nupdate-initramfs: deferring update (trigger activated)\nSetting up lsscsi (0.30-0.1) ...\nSetting up netpbm (2:10.0-15.3build1) ...\nSetting up scrub (2.6.1-1build2) ...\nSetting up libhfsp0 (1.0.4-15) ...\nSetting up extlinux (3:6.04~git20190206.bf6db5b4+dfsg1-2) ...\nSetting up uml-utilities (20070815.3-1) ...\nSetting up kpartx (0.8.3-1ubuntu2) ...\nSetting up lzop (1.04-1) ...\nSetting up libintl-perl (1.26-2build4) ...\nSetting up libewf2 (20140807-2build1) ...\nSetting up exfat-fuse (1.3.0-1) ...\nSetting up libhivex0:amd64 (1.3.18-2build2) ...\nSetting up libf2fs-format4:amd64 (1.11.0-1.1ubuntu1) ...\nSetting up supermin (5.1.20-2ubuntu1) ...\nSetting up libdate-manip-perl (6.79-1) ...\nSetting up libsys-virt-perl (5.0.0-1build1) ...\nSetting up hfsplus (1.0.4-15) ...\nSetting up db-util (1:5.3.21~exp1ubuntu2) ...\nSetting up f2fs-tools (1.11.0-1.1ubuntu1) ...\nSetting up libwin-hivex-perl (1.3.18-2build2) ...\nSetting up libintl-xs-perl (1.26-2build4) ...\nSetting up libtsk13 (4.6.7-1build1) ...\nSetting up sleuthkit (4.6.7-1build1) ...\nSetting up libguestfs0:amd64 (1:1.40.2-7ubuntu5) ...\nSetting up libguestfs-xfs:amd64 (1:1.40.2-7ubuntu5) ...\nSetting up libguestfs-perl (1:1.40.2-7ubuntu5) ...\nSetting up libguestfs-hfsplus:amd64 (1:1.40.2-7ubuntu5) ...\nSetting up libguestfs-reiserfs:amd64 (1:1.40.2-7ubuntu5) ...\nSetting up libguestfs-tools (1:1.40.2-7ubuntu5) ...\nProcessing triggers for libc-bin (2.31-0ubuntu9) ...\nProcessing triggers for systemd (245.4-4ubuntu3.1pop0~1590695674~20.04~eaac747) ...\nProcessing triggers for man-db (2.9.1-1) ...\nProcessing triggers for initramfs-tools (0.136ubuntu6) ...\nupdate-initramfs: Generating /boot/initrd.img-5.4.0-7625-generic\ncryptsetup: WARNING: Resume target cryptswap uses a key file\nkernelstub.Config    : INFO     Looking for configuration...\nkernelstub           : INFO     System information: \n\n    OS:..................Pop!_OS 20.04\n    Root partition:....../dev/nvme0n1p3\n    Root FS UUID:........848bd8ca-b3f1-4047-af52-79b800218f9d\n    ESP Path:............/boot/efi\n    ESP Partition:......./dev/nvme0n1p1\n    ESP Partition #:.....1\n    NVRAM entry #:.......-1\n    Boot Variable #:.....0000\n    Kernel Boot Options:.quiet loglevel=0 systemd.show_status=false splash\n    Kernel Image Path:.../boot/vmlinuz-5.4.0-7625-generic\n    Initrd Image Path:.../boot/initrd.img-5.4.0-7625-generic\n    Force-overwrite:.....False\n\nkernelstub.Installer : INFO     Copying Kernel into ESP\nkernelstub.Installer : INFO     Copying initrd.img into ESP\nkernelstub.Installer : INFO     Setting up loader.conf configuration\nkernelstub.Installer : INFO     Making entry file for Pop!_OS\nkernelstub.Installer : INFO     Backing up old kernel\nkernelstub.Installer : INFO     No old kernel found, skipping\n\n\n\nlibvirt-daemon-system is already the newest version (6.0.0-0ubuntu8.2).\n0 upgraded, 0 newly installed, 0 to remove and 312 not upgraded.\n"
    }
   ],
   "source": [
    "# Virtualisation\n",
    "# Qemu-KVM\n",
    "!sudo apt-get install -y qemu-system qemu-utils python3 python3-pip\n",
    "!sudo apt-get install -y libvirt-bin libvirt-doc libvirt-clients libvirt-daemon-system-sysv\n",
    "!sudo apt-get install -y qemu-kvm libvirt-clients libvirt-daemon-system bridge-utils virt-manager virt-viewer spice-vdagent\n",
    "!sudo apt-get install -y qemu uml-utilities dmg2img git wget libguestfs-tools\n",
    "!sudo apt-get install -y libvirt-daemon-system\n",
    "#!sudo service libvirtd start\n",
    "#!sudo adduser username libvirt\n",
    "#!sudo adduser username libvirt-qemu"
   ]
  },
  {
   "cell_type": "code",
   "execution_count": null,
   "metadata": {},
   "outputs": [],
   "source": [
    "# Wine-Stable\n",
    "#http://ubuntuhandbook.org/index.php/2020/01/install-wine-5-0-stable-ubuntu-18-04-19-10/\n",
    "#!sudo apt install -y python3-pil python3-setproctitle cabextract p7zip fluid-soundfont-gs mesa-utils python3-evdev libwine-development winetricks libc6-i386 lib32gcc1 lib32gcc-s1\n",
    "#!sudo apt-get install -y libgnutls30:i386 libldap-2.4-2:i386 libgpg-error0:i386 libxml2:i386 libasound2-plugins:i386 libsdl2-2.0-0:i386 libfreetype6:i386 libdbus-1-3:i386 libsqlite3-0:i386\n",
    "!cn=$(awk -F= '/VERSION_CODENAME=/ {gsub(/\"/,\"\"); print $2}' /etc/os-release)\n",
    "!sudo dpkg --add-architecture i386\n",
    "!wget -nc https://dl.winehq.org/wine-builds/winehq.key\n",
    "!sudo apt-key add winehq.key\n",
    "#!wget -qO - https://dl.winehq.org/wine-builds/winehq.key | sudo apt-key add -\n",
    "!sudo apt-add-repository -y \"deb https://dl.winehq.org/wine-builds/ubuntu/ $(awk -F= '/VERSION_CODENAME=/ {gsub(/\"/,\"\"); print $2}' /etc/os-release) main\"\n",
    "#!sudo add-apt-repository ppa:cybermax-dexter/sdl2-backport -y\n",
    "!sudo apt update\n",
    "!sudo apt install --install-recommends wine-stable\n",
    "\n",
    "# CrossOver\n",
    "# Office 2016"
   ]
  },
  {
   "cell_type": "code",
   "execution_count": null,
   "metadata": {},
   "outputs": [],
   "source": [
    "#Lutris\n",
    "!sudo add-apt-repository -y \"deb http://archive.ubuntu.com/ubuntu/ focal main\"\n",
    "!sudo add-apt-repository -y ppa:lutris-team/lutris\n",
    "!sudo apt-get update\n",
    "!sudo apt-get install lutris -y"
   ]
  },
  {
   "cell_type": "code",
   "execution_count": null,
   "metadata": {},
   "outputs": [],
   "source": [
    "#Kali-tools\n",
    "sudo apt-get install -y aircrack-ng\n",
    "sudo apt-get install -y hashcat\n",
    "sudo apt-get install -y net-tools"
   ]
  },
  {
   "cell_type": "code",
   "execution_count": null,
   "metadata": {},
   "outputs": [],
   "source": [
    "### Brew\n",
    "sudo apt update\n",
    "sudo apt-get install build-essential curl file git -y\n",
    "sudo apt install -y ruby\n",
    "git clone https://github.com/Homebrew/linuxbrew.git ~/.linuxbrew\n",
    "export PATH=\"$HOME/.linuxbrew/bin:$PATH\"\n",
    "export MANPATH=\"$HOME/.linuxbrew/share/man:$MANPATH\"\n",
    "export INFOPATH=\"$HOME/.linuxbrew/share/info:$INFOPATH\"\n",
    "hash -r\n",
    "\n",
    "test -d ~/.linuxbrew && eval $(~/.linuxbrew/bin/brew shellenv)\n",
    "test -d /home/linuxbrew/.linuxbrew && eval $(/home/linuxbrew/.linuxbrew/bin/brew shellenv)\n",
    "test -r ~/.bash_profile && echo \"eval \\$($(brew --prefix)/bin/brew shellenv)\" >>~/.bash_profile\n",
    "echo \"eval \\$($(brew --prefix)/bin/brew shellenv)\" >>~/.profile\n",
    "\n"
   ]
  },
  {
   "cell_type": "code",
   "execution_count": null,
   "metadata": {},
   "outputs": [],
   "source": [
    "\n",
    "\n",
    "sudo apt-get install -y \\\n",
    "linux-tools-generic \\\n",
    "linux-cloud-tools-generic \\\n",
    "#USBIP\n",
    "http://www.linux-magazine.com/Issues/2018/208/Tutorial-USB-IP\n",
    "#SERVERSIDE\n",
    "sudo modprobe usbip-core\n",
    "sudo modprobe usbip-host\n",
    "sudo usbipd\n",
    "sudo usbipd -D\n",
    "sudo usbip list -l\n",
    "sudo usbip bind -b 1-2\n",
    "#sudo usbip unbind -b 1-2\n",
    "\n",
    "#CLIENTSIDE\n",
    "sudo modprobe usbip-core\n",
    "sudo modprobe vhci-hcd\n",
    "sudo usbip list -r <server>\n",
    "sudo usbip list -r 192.168.1.24\n",
    "\n",
    "sudo ln -s /usr/lib/flfl\n",
    "  linux-tools-<version number>/usbip /usr/sbin/\n",
    "sudo usbip attach -r 192.168.1.24 -b 1-1\n",
    "lsusb\n",
    "\n",
    "#DETACHING\n",
    "sudo usbip port\n",
    "sudo usbip detach -p 01\n",
    "\n",
    "\n",
    "#UBUNTUDRIVERS\n",
    "sudo apt-get install -y ubuntu-drivers\n",
    "sudo ubuntu-drivers autoinstall"
   ]
  },
  {
   "cell_type": "code",
   "execution_count": null,
   "metadata": {},
   "outputs": [],
   "source": [
    "#MIRACAST\n",
    "sudo add-apt-repository ppa:thopiekar/miraclecast\n",
    "sudo apt-get update\n",
    "sudo apt-get install miraclecast"
   ]
  },
  {
   "cell_type": "code",
   "execution_count": null,
   "metadata": {},
   "outputs": [],
   "source": [
    "# Github Desktop for Linux\n",
    "# https://github.com/shiftkey/desktop/\n",
    "wget -qO - https://packagecloud.io/shiftkey/desktop/gpgkey | sudo apt-key add -\n",
    "sudo sh -c 'echo \"deb [arch=amd64] https://packagecloud.io/shiftkey/desktop/any/ any main\" > /etc/apt/sources.list.d/packagecloud-shiftky-desktop.list'\n",
    "sudo apt-get update\n",
    "sudo apt install -y github-desktop"
   ]
  },
  {
   "cell_type": "code",
   "execution_count": null,
   "metadata": {},
   "outputs": [],
   "source": [
    "#Gitlab\n",
    "#1. Install and configure the necessary dependencies \n",
    "sudo apt-get update\n",
    "sudo apt-get install -y curl openssh-server ca-certificates\n",
    "sudo apt-get install -y postfix\n",
    "#2. Add the GitLab package repository and install the package\n",
    "curl https://packages.gitlab.com/install/repositories/gitlab/gitlab-ee/script.deb.sh | sudo bash\n",
    "sudo EXTERNAL_URL=\"https://gitlab.example.com\" apt-get install gitlab-ee"
   ]
  },
  {
   "cell_type": "code",
   "execution_count": null,
   "metadata": {},
   "outputs": [],
   "source": [
    "#VBOX boot physical disk\n",
    "VBoxManage internalcommands createrawvmdk -filename \"~/Documents/PDC.vmdk\" -rawdisk /dev/sdc"
   ]
  },
  {
   "cell_type": "code",
   "execution_count": null,
   "metadata": {},
   "outputs": [],
   "source": [
    "#STATICIPUBUNTU\n",
    "#1\n",
    "sudo nano /etc/netplan/01-netcfg.yaml\n",
    "sudo netplan apply\n",
    "\n",
    "#2\n",
    "sudo nano /etc/network/interfaces\n",
    "auto eno1\n",
    "iface eno1 inet dhcp\n",
    "#iface eno1 inet static\n",
    "#address 10.150.141.79\n",
    "#netmask 255.255.240.0\n",
    "#gateway 10.150.128.1\n",
    "#dns-nameservers 10.132.160.101"
   ]
  },
  {
   "cell_type": "code",
   "execution_count": null,
   "metadata": {},
   "outputs": [],
   "source": [
    "#SETSTATICINET_BASH\n",
    "#https://websiteforstudents.com/switch-static-ip-address-ubuntu-17-04-17-10/\n",
    "sudo sed -i 's|inet dhcp| inet static\n",
    "address 10.150.141.79\n",
    "netmask 255.255.240.0\n",
    "#network 192.168.0.0\n",
    "#broadcst 192.168.0.255\n",
    "gateway 10.150.128.1\n",
    "dns-nameservers 10.132.160.101\n",
    "|g' /etc/network/interfaces"
   ]
  },
  {
   "cell_type": "code",
   "execution_count": null,
   "metadata": {},
   "outputs": [],
   "source": [
    "#MOBILEHOTSPOT\n",
    "git clone\n",
    "cd ~/create_ap\n",
    "sudo create_ap wlxd0374534a264 wlx1cbfce35c3c1 WIFI_A8233 Mylo2012"
   ]
  },
  {
   "cell_type": "code",
   "execution_count": null,
   "metadata": {},
   "outputs": [],
   "source": []
  },
  {
   "cell_type": "code",
   "execution_count": null,
   "metadata": {},
   "outputs": [],
   "source": []
  },
  {
   "cell_type": "code",
   "execution_count": null,
   "metadata": {},
   "outputs": [],
   "source": []
  }
 ],
 "metadata": {
  "kernelspec": {
   "display_name": "Python 3",
   "language": "python",
   "name": "python3"
  },
  "language_info": {
   "codemirror_mode": {
    "name": "ipython",
    "version": 3
   },
   "file_extension": ".py",
   "mimetype": "text/x-python",
   "name": "python",
   "nbconvert_exporter": "python",
   "pygments_lexer": "ipython3",
   "version": "3.8.2-final"
  }
 },
 "nbformat": 4,
 "nbformat_minor": 4
}