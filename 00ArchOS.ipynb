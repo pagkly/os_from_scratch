{
 "metadata": {
  "language_info": {
   "codemirror_mode": {
    "name": "ipython",
    "version": 3
   },
   "file_extension": ".py",
   "mimetype": "text/x-python",
   "name": "python",
   "nbconvert_exporter": "python",
   "pygments_lexer": "ipython3",
   "version": 3
  },
  "orig_nbformat": 2
 },
 "nbformat": 4,
 "nbformat_minor": 2,
 "cells": [
  {
   "cell_type": "code",
   "execution_count": null,
   "metadata": {},
   "outputs": [],
   "source": [
    "sudo pacman-key --init\n",
    "sudo pacman-key --populate\n",
    "sudo pacman -Sy archlinux-keyring manjaro-keyring\n",
    "sudo pacman -Syyu\n",
    "sudo pacman -S base-devel git linux\n",
    "#sudo pacman -S linux56-rt-headers\n",
    "#sudo pacman-mirrors -c Australia\n",
    "sudo pacman-mirrors -c Indonesia\n",
    "sudo pacman -S yay pamac\n",
    "sudo pacman -S aircrack-ng hcxtools hcxdumptool\n",
    "yay -S aircrack-ng hcxtools hcxdumptool\n",
    "\n",
    "#yay\n",
    "sudo git clone https://aur.archlinux.org/yay.git\n",
    "sudo chown -R  $USER:users yay\n",
    "cd yay\n",
    "makepkg -si\n",
    "\n",
    "#rtl8188eus\n",
    "sudo pacman -S base-devel git linux\n",
    "yay -S hcxtools hcxdumptools aircrack-ng\n",
    "\n"
   ]
  }
 ]
}