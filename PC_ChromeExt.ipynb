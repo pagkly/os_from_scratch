{
 "metadata": {
  "language_info": {
   "codemirror_mode": {
    "name": "ipython",
    "version": 3
   },
   "file_extension": ".py",
   "mimetype": "text/x-python",
   "name": "python",
   "nbconvert_exporter": "python",
   "pygments_lexer": "ipython3",
   "version": 3
  },
  "orig_nbformat": 2
 },
 "nbformat": 4,
 "nbformat_minor": 2,
 "cells": [
  {
   "cell_type": "code",
   "execution_count": null,
   "metadata": {},
   "outputs": [],
   "source": [
    "#paywall\n",
    "git clone https://github.com/iamadamdev/bypass-paywalls-chrome.git\n",
    "\n"
   ]
  },
  {
   "cell_type": "code",
   "execution_count": null,
   "metadata": {},
   "outputs": [],
   "source": [
    "#https://medium.com/sean3z/get-around-coursehero-or-quizlet-8f6ed958ffdc"
   ]
  },
  {
   "cell_type": "code",
   "execution_count": null,
   "metadata": {},
   "outputs": [],
   "source": [
    "// https://greasyfork.org/en/scripts/373078-remove-coursehero-monthly-limit/code\n",
    "// ==UserScript==\n",
    "// @name Remove Coursehero Monthly Limit\n",
    "// @description Removes the Coursehero monthly document preview limit (originally 3).\n",
    "// @author Luigi Agcaoili\n",
    "// @include *coursehero.com/file/*\n",
    "// @version 1.0.2\n",
    "// @grant none\n",
    "// @namespace https://greasyfork.org/users/208370\n",
    "// @copyright 2019, luigia (https://github.com/luigia)\n",
    "// @license MIT\n",
    "// ==/UserScript==\n",
    "window.addEventListener('load', () => {\n",
    "  // pop-up modals\n",
    "  if ( document.querySelector('.mfp-wrap') && document.querySelector('.mfp-bg') ) {\n",
    "    let wrap = document.querySelector('.mfp-wrap'),\n",
    "        bg = document.querySelector('.mfp-bg');\n",
    "    wrap.remove();\n",
    "    bg.remove();\n",
    "  }\n",
    "\n",
    "// remove dynamically added styles\n",
    "document.body.className = '';\n",
    "document.body.style.cursor = '';\n",
    "// re-enable scrolling\n",
    "document.body.style.setProperty (\"overflow\", \"visible\", \"important\");\n",
    "document.body.click();\n",
    "}, false);\n"
   ]
  },
  {
   "cell_type": "code",
   "execution_count": null,
   "metadata": {},
   "outputs": [],
   "source": [
    "// ==UserScript==\n",
    "// @name         Scribd Unblurer\n",
    "// @namespace    gvoze32/scribdunblurer\n",
    "// @version      1.0\n",
    "// @description  Scribd document pages unblurer\n",
    "// @author       gvoze32\n",
    "// @grant        none\n",
    "// @require      https://ajax.googleapis.com/ajax/libs/jquery/2.1.0/jquery.min.js\n",
    "// @match        *://*.scribd.com/document/*\n",
    "// ==/UserScript==\n",
    "\n",
    "setInterval(function() {\n",
    " $('.absimg').css('opacity', '1.0');\n",
    " $('.autogen_class_views_read2_page_blur_promo').remove();\n",
    " $('.between_page_ads').remove();\n",
    " $('.outer_page only_ie6_border blurred_page').remove();\n",
    " $('.page_blur_promo').remove();\n",
    " $('.promo').remove();\n",
    " $('.page-blur-promo-overlay').remove();\n",
    " $('.page_missing_explanation_inner').remove();\n",
    " $('.text_layer').css('color', '#000');\n",
    " $('.text_layer').css('text-shadow', '0px 0px 0px #000');\n",
    "}, 1000);"
   ]
  }
 ]
}