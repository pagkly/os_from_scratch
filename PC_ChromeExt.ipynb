{
 "metadata": {
  "language_info": {
   "codemirror_mode": {
    "name": "ipython",
    "version": 3
   },
   "file_extension": ".py",
   "mimetype": "text/x-python",
   "name": "python",
   "nbconvert_exporter": "python",
   "pygments_lexer": "ipython3",
   "version": 3
  },
  "orig_nbformat": 2
 },
 "nbformat": 4,
 "nbformat_minor": 2,
 "cells": [
  {
   "cell_type": "code",
   "execution_count": null,
   "metadata": {},
   "outputs": [],
   "source": [
    "#paywall\n",
    "git clone https://github.com/iamadamdev/bypass-paywalls-chrome.git\n",
    "\n"
   ]
  },
  {
   "cell_type": "code",
   "execution_count": null,
   "metadata": {},
   "outputs": [],
   "source": [
    "#https://medium.com/sean3z/get-around-coursehero-or-quizlet-8f6ed958ffdc"
   ]
  },
  {
   "cell_type": "code",
   "execution_count": null,
   "metadata": {},
   "outputs": [],
   "source": [
    "// https://greasyfork.org/en/scripts/373078-remove-coursehero-monthly-limit/code\n",
    "// ==UserScript==\n",
    "// @name Remove Coursehero Monthly Limit\n",
    "// @description Removes the Coursehero monthly document preview limit (originally 3).\n",
    "// @author Luigi Agcaoili\n",
    "// @include *coursehero.com/file/*\n",
    "// @version 1.0.2\n",
    "// @grant none\n",
    "// @namespace https://greasyfork.org/users/208370\n",
    "// @copyright 2019, luigia (https://github.com/luigia)\n",
    "// @license MIT\n",
    "// ==/UserScript==\n",
    "window.addEventListener('load', () => {\n",
    "  // pop-up modals\n",
    "  if ( document.querySelector('.mfp-wrap') && document.querySelector('.mfp-bg') ) {\n",
    "    let wrap = document.querySelector('.mfp-wrap'),\n",
    "        bg = document.querySelector('.mfp-bg');\n",
    "    wrap.remove();\n",
    "    bg.remove();\n",
    "  }\n",
    "\n",
    "// remove dynamically added styles\n",
    "document.body.className = '';\n",
    "document.body.style.cursor = '';\n",
    "// re-enable scrolling\n",
    "document.body.style.setProperty (\"overflow\", \"visible\", \"important\");\n",
    "document.body.click();\n",
    "}, false);\n"
   ]
  }
 ]
}